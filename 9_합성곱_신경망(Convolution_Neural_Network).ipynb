{
  "nbformat": 4,
  "nbformat_minor": 0,
  "metadata": {
    "colab": {
      "name": "9 합성곱 신경망(Convolution Neural Network).ipynb",
      "provenance": [],
      "collapsed_sections": [],
      "include_colab_link": true
    },
    "kernelspec": {
      "name": "python3",
      "display_name": "Python 3"
    },
    "accelerator": "GPU"
  },
  "cells": [
    {
      "cell_type": "markdown",
      "metadata": {
        "id": "view-in-github",
        "colab_type": "text"
      },
      "source": [
        "<a href=\"https://colab.research.google.com/github/HoYoung1/NLPStudy/blob/main/9_%ED%95%A9%EC%84%B1%EA%B3%B1_%EC%8B%A0%EA%B2%BD%EB%A7%9D(Convolution_Neural_Network).ipynb\" target=\"_parent\"><img src=\"https://colab.research.google.com/assets/colab-badge.svg\" alt=\"Open In Colab\"/></a>"
      ]
    },
    {
      "cell_type": "markdown",
      "metadata": {
        "id": "86l7I5SQ_u9J"
      },
      "source": [
        "# 합성곱 신경망(Convolution Neural Network)\n",
        "\n",
        "- 이미지 인식, 음성 인식 등에 자주 사용되는데,  \n",
        "  특히, 이미지 인식 분야에서 거의 모든 딥러닝 기술에 사용\n",
        "\n",
        "<br>\n",
        "\n",
        "## 컨볼루션 신경망의 등장\n",
        "- 1989년 얀 르쿤(Yann LeCun) 교수의 논문에서 발표\n",
        "\n",
        "  - 필기체 인식에서 의미가 있었지만 범용화하는데에는 무리\n",
        "\n",
        "- 1998년, \"Gradient-Based Learning Applied to Document Recognition\"이라는 논문에서 LeNet-5 제시\n",
        "\n",
        "- 합성곱 층(convolution layer), 풀링 층(pooling layer) 소개\n",
        "  <br>\n",
        "\n",
        "  <img src=\"https://miro.medium.com/max/4308/1*1TI1aGBZ4dybR6__DI9dzA.png\">\n",
        "  \n",
        "  <center>[LeNet-5 구조]</center>\n",
        "\n",
        "  <sub>출처: https://medium.com/@pechyonkin/key-deep-learning-architectures-lenet-5-6fc3c59e6f4</sub>"
      ]
    },
    {
      "cell_type": "markdown",
      "metadata": {
        "id": "Y46evOQHNukF"
      },
      "source": [
        "## 컨볼루션 신경망 구조 예시\n",
        "\n",
        "<img src=\"https://www.oreilly.com/library/view/neural-network-projects/9781789138900/assets/c38754ca-f2ea-425a-b7a6-1fe0f2f5074e.png\" width=\"600\">\n",
        "\n",
        "<sub>출처: https://www.oreilly.com/library/view/neural-network-projects/9781789138900/8e87ad66-6de3-4275-81a4-62b54436bf16.xhtml</sub>\n",
        "\n"
      ]
    },
    {
      "cell_type": "markdown",
      "metadata": {
        "id": "Wtb8UWyTNxp_"
      },
      "source": [
        "## 합성곱 연산\n",
        "- 필터(filter) 연산\n",
        "  - 입력 데이터에 필터를 통한 어떠한 연산을 진행\n",
        "  \n",
        "  - **필터에 대응하는 원소끼리 곱하고, 그 합을 구함**\n",
        "\n",
        "  - 연산이 완료된 결과 데이터를 **특징 맵(feature map)**이라 부름\n",
        "\n",
        "- 필터(filter)\n",
        "  - 커널(kernel)이라고도 칭함\n",
        "  \n",
        "  - 흔히 사진 어플에서 사용하는 '이미지 필터'와 비슷한 개념\n",
        "\n",
        "  - 필터의 사이즈는 \"거의 항상 홀수\"\n",
        "    - 짝수이면 패딩이 비대칭이 되어버림\n",
        "  \n",
        "    - 왼쪽, 오른쪽을 다르게 주어야함\n",
        "  \n",
        "    - 중심위치가 존재, 즉 구별된 하나의 픽셀(중심 픽셀)이 존재\n",
        "\n",
        "  - 필터의 학습 파라미터 개수는 입력 데이터의 크기와 상관없이 일정  \n",
        "    따라서, 과적합을 방지할 수 있음\n",
        "\n",
        "  <br>\n",
        "  <img src=\"http://deeplearning.net/software/theano_versions/dev/_images/numerical_no_padding_no_strides.gif\">\n",
        "\n",
        "  <sub>출처: http://deeplearning.net/software/theano_versions/dev/tutorial/conv_arithmetic.html</sub>\n",
        "\n",
        "\n",
        "- 연산 시각화\n",
        "  <img src=\"https://www.researchgate.net/profile/Ihab_S_Mohamed/publication/324165524/figure/fig3/AS:611103423860736@1522709818959/An-example-of-convolution-operation-in-2D-2.png\" width=\"500\">\n",
        "\n",
        "  <sub>출처: https://www.researchgate.net/figure/An-example-of-convolution-operation-in-2D-2_fig3_324165524</sub>\n",
        "\n",
        "\n",
        "- 일반적으로, 합성곱 연산을 한 후의 데이터 사이즈는  \n",
        "  ### $\\quad (n-f+1) \\times (n-f+1)$\n",
        "    $n$: 입력 데이터의 크기  \n",
        "    $f$: 필터(커널)의 크기\n",
        "\n",
        "\n",
        "  <img src=\"https://miro.medium.com/max/1400/1*Fw-ehcNBR9byHtho-Rxbtw.gif\" width=\"400\">\n",
        "\n",
        "  <sub>출처: https://towardsdatascience.com/intuitively-understanding-convolutions-for-deep-learning-1f6f42faee1</sub>\n",
        "  \n",
        "  위 예에서 입력 데이터 크기($n$)는 5, 필터의 크기($k$)는 3이므로  \n",
        "  출력 데이터의 크기는 $(5 - 3 + 1) = 3$\n"
      ]
    },
    {
      "cell_type": "markdown",
      "metadata": {
        "id": "5-ekDsJwN2Y-"
      },
      "source": [
        "## 패딩(padding)과 스트라이드(stride)\n",
        "- 필터(커널) 사이즈과 함께 **입력 이미지와 출력 이미지의 사이즈를 결정**하기 위해 사용\n",
        "\n",
        "- 사용자가 결정할 수 있음\n"
      ]
    },
    {
      "cell_type": "markdown",
      "metadata": {
        "id": "alV1bgcjN4Kc"
      },
      "source": [
        "\n",
        "### 패딩\n",
        "- 입력 데이터의 주변을 특정 값으로 채우는 기법\n",
        "  - 주로 0으로 많이 채움\n",
        "\n",
        "  <img src=\"http://deeplearning.net/software/theano_versions/dev/_images/arbitrary_padding_no_strides.gif\" width=\"300\">\n",
        "\n",
        "- 출력 데이터의 크기\n",
        "  ### $\\quad (n+2p-f+1) \\times (n+2p-f+1)$\n",
        "\n",
        "  위 그림에서, 입력 데이터의 크기($n$)는 5, 필터의 크기($f$)는 4, 패딩값($p$)은 2이므로    \n",
        "  출력 데이터의 크기는 ($5 + 2\\times 2 - 4 + 1) = 6$\n",
        "\n",
        "### 'valid' 와 'same'\n",
        "- 'valid'\n",
        "  - 패딩을 주지 않음\n",
        "  - padding=0 (0으로 채워진 테두리가 아니라 패딩을 주지 않는다는 의미)\n",
        "\n",
        "- 'same'\n",
        "  - 패딩을 주어 입력 이미지의 크기와 연산 후의 이미지 크기를 같게함\n",
        "\n",
        "  - 만약, 필터(커널)의 크기가 $k$ 이면,  \n",
        "    패딩의 크기는 $p = \\frac{k-1}{2}$ (단, <u>stride=1)</u>"
      ]
    },
    {
      "cell_type": "markdown",
      "metadata": {
        "id": "zlZ7zG6ON85J"
      },
      "source": [
        "\n",
        "\n",
        "### 스트라이드\n",
        "- 필터를 적용하는 간격을 의미\n",
        "\n",
        "- 아래는 그림의 간격 2\n",
        "\n",
        "  <img src=\"http://deeplearning.net/software/theano_versions/dev/_images/no_padding_strides.gif\">\n"
      ]
    },
    {
      "cell_type": "markdown",
      "metadata": {
        "id": "LPcsND-0OCNm"
      },
      "source": [
        "## 출력 데이터의 크기\n",
        "\n",
        "## $\\qquad OH = \\frac{H + 2P - FH}{S} + 1 $ \n",
        "## $\\qquad OW = \\frac{W + 2P - FW}{S} + 1 $ \n",
        "\n",
        "- 입력 크기 : $(H, W)$\n",
        "\n",
        "- 필터 크기 : $(FH, FW)$\n",
        "\n",
        "- 출력 크기 : $(OH, OW)$\n",
        "\n",
        "- 패딩, 스트라이드 : $P, S$\n",
        "\n",
        "- (주의) \n",
        "  - 위 식의 값에서 $\\frac{H + 2P - FH}{S}$ 또는 $\\frac{W + 2P - FW}{S}$가 정수로 나누어 떨어지는 값이어야 함\n",
        "  - 만약, 정수로 나누어 떨어지지 않으면  \n",
        "    패딩, 스트라이드값을 조정하여 정수로 나누어 떨어지게 해야함\n"
      ]
    },
    {
      "cell_type": "markdown",
      "metadata": {
        "id": "1x4UoMbF8jJ9"
      },
      "source": [
        "## 풀링(Pooling)\n",
        "\n",
        "- 필터(커널) 사이즈 내에서 특정 값을 추출하는 과정"
      ]
    },
    {
      "cell_type": "markdown",
      "metadata": {
        "id": "lDiaO3XF8oC_"
      },
      "source": [
        "### 맥스 풀링(Max Pooling)\n",
        "- 가장 많이 사용되는 방법\n",
        "\n",
        "- 출력 데이터의 사이즈 계산은 컨볼루션 연산과 동일\n",
        "## $\\quad OH = \\frac{H + 2P - FH}{S} + 1 $ \n",
        "## $\\quad OW = \\frac{W + 2P - FW}{S} + 1 $ \n",
        "\n",
        "- 일반적으로 stride=2, kernel_size=2 를 통해  \n",
        "  **특징맵의 크기를 <u>절반으로 줄이는 역할</u>**\n",
        "\n",
        "- 모델이 물체의 주요한 특징을 학습할 수 있도록 해주며,  \n",
        "  컨볼루션 신경망이 이동 불변성 특성을 가지게 해줌\n",
        "  - 예를 들어, 아래의 그림에서 초록색 사각형 안에 있는  \n",
        "    2와 8의 위치를 바꾼다해도 맥스 풀링 연산은 8을 추출\n",
        "\n",
        "- 모델의 파라미터 개수를 줄여주고, 연산 속도를 빠르게 해줌\n",
        "\n",
        "  <br>\n",
        "\n",
        "  <img src=\"https://cs231n.github.io/assets/cnn/maxpool.jpeg\" width=\"600\">\n",
        "\n",
        "  <sub>출처: https://cs231n.github.io/convolutional-networks/</sub>"
      ]
    },
    {
      "cell_type": "markdown",
      "metadata": {
        "id": "CrvtX4LrkhPI"
      },
      "source": [
        "## Conv1D \n",
        "\n",
        "- 텍스트 분류나 시계열 예측 같은 간단한 문제, 오디오 생성, 기계 번역 등의 문제에서 좋은 성능\n",
        "\n",
        "- 타임스텝의 순서에 민감하지 X\n",
        "\n",
        "\n",
        "- 2D Convolution\n",
        "  - 지역적 특징을 인식\n",
        "\n",
        "  <img src=\"https://missinglink.ai/wp-content/uploads/2019/03/2D-convolutional-example_2x-700x584.png\" width=\"500\">\n",
        "\n",
        "- 1D Convolution\n",
        "  - 문맥을 인식\n",
        "\n",
        "  <img src=\"https://missinglink.ai/wp-content/uploads/2019/03/1D-convolutional-example_2x.png\" width=\"500\">\n",
        "\n",
        "  <sub>출처: https://missinglink.ai/guides/keras/keras-conv1d-working-1d-convolutional-neural-networks-keras/</sub>"
      ]
    },
    {
      "cell_type": "markdown",
      "metadata": {
        "id": "aJNAI-aYnDuc"
      },
      "source": [
        "### Conv1D Layer\n",
        "- 입력: `(batch_size, timesteps, channels)`\n",
        "\n",
        "- 출력: `(batch_size, timesteps, filters)`\n",
        "\n",
        "- 필터의 사이즈가 커져도 모델이 급격히 증가하지 않기 때문에 다양한 크기를 사용할 수 있음\n",
        "- 데이터의 품질이 좋으면 굳이 크기를 달리하여 여러 개를 사용하지 않아도 될 수도 있음"
      ]
    },
    {
      "cell_type": "markdown",
      "metadata": {
        "id": "ADJZHPLJqTZa"
      },
      "source": [
        "### MaxPooling1D Layer\n",
        "- 다운 샘플링 효과\n",
        "\n",
        "- 단지 1차원형태로 바뀐 것 뿐"
      ]
    },
    {
      "cell_type": "markdown",
      "metadata": {
        "id": "wirZzwYJrNll"
      },
      "source": [
        "### GlobalMaxPooling Layer\n",
        "- 배치차원을 제외하고 2차원 형태를 1차원 형태로 바꾸어주는 레이어\n",
        "\n",
        "- Flatten layer로 대신 사용가능"
      ]
    },
    {
      "cell_type": "markdown",
      "metadata": {
        "id": "YQY_1IL9nQs2"
      },
      "source": [
        "## IMDB 데이터"
      ]
    },
    {
      "cell_type": "markdown",
      "metadata": {
        "id": "pl4Eu32qnUES"
      },
      "source": [
        "### 데이터 로드 및 전처리"
      ]
    },
    {
      "cell_type": "code",
      "metadata": {
        "id": "WcG-Hiltklbe"
      },
      "source": [
        "from tensorflow.keras.datasets import imdb\n",
        "from tensorflow.keras.preprocessing.sequence import pad_sequences\n",
        "from tensorflow.keras.models import Sequential\n",
        "from tensorflow.keras.optimizers import RMSprop\n",
        "from tensorflow.keras.layers import Dense, Embedding, Conv1D, MaxPooling1D, GlobalMaxPooling1D\n",
        "\n"
      ],
      "execution_count": 3,
      "outputs": []
    },
    {
      "cell_type": "code",
      "metadata": {
        "id": "GGYaNT8hnec5",
        "colab": {
          "base_uri": "https://localhost:8080/"
        },
        "outputId": "44e26f1d-3761-4e2f-b690-11207f1300cc"
      },
      "source": [
        "num_words = 10000\n",
        "max_len = 500\n",
        "batch_size = 32\n",
        "\n",
        "(input_train, y_train), (input_test, y_test) = imdb.load_data(num_words=num_words)\n",
        "\n",
        "print(len(input_train))\n",
        "print(len(input_test))"
      ],
      "execution_count": 4,
      "outputs": [
        {
          "output_type": "stream",
          "name": "stdout",
          "text": [
            "Downloading data from https://storage.googleapis.com/tensorflow/tf-keras-datasets/imdb.npz\n",
            "17465344/17464789 [==============================] - 0s 0us/step\n",
            "17473536/17464789 [==============================] - 0s 0us/step\n",
            "25000\n",
            "25000\n"
          ]
        }
      ]
    },
    {
      "cell_type": "code",
      "metadata": {
        "id": "nQBzp3ownpEK",
        "colab": {
          "base_uri": "https://localhost:8080/"
        },
        "outputId": "164db840-0b4a-4c88-e30e-7309d671ec39"
      },
      "source": [
        "pad_x_train = pad_sequences(input_train, maxlen=max_len)\n",
        "pad_x_test = pad_sequences(input_test, maxlen=max_len)\n",
        "\n",
        "print(pad_x_train.shape)\n",
        "print(pad_x_test.shape)"
      ],
      "execution_count": 6,
      "outputs": [
        {
          "output_type": "stream",
          "name": "stdout",
          "text": [
            "(25000, 500)\n",
            "(25000, 500)\n"
          ]
        }
      ]
    },
    {
      "cell_type": "markdown",
      "metadata": {
        "id": "j3E0hYiHoBO0"
      },
      "source": [
        "### 모델 구성"
      ]
    },
    {
      "cell_type": "code",
      "metadata": {
        "id": "PvKPr7N6nuHr"
      },
      "source": [
        "def build_model():\n",
        "  model = Sequential()\n",
        "\n",
        "  model.add(Embedding(input_dim=num_words, output_dim=32, input_length=max_len))\n",
        "  model.add(Conv1D(32, 7, activation='relu'))\n",
        "  model.add(MaxPooling1D(7))\n",
        "  model.add(Conv1D(32, 5, activation='relu'))\n",
        "  model.add(MaxPooling1D(5))\n",
        "  model.add(GlobalMaxPooling1D())\n",
        "  model.add(Dense(1, activation='sigmoid'))\n",
        "\n",
        "  model.compile(optimizer=RMSprop(learning_rate=1e-4),\n",
        "                loss='binary_crossentropy',\n",
        "                metrics=['accuracy'])\n",
        "  return model\n"
      ],
      "execution_count": 7,
      "outputs": []
    },
    {
      "cell_type": "code",
      "metadata": {
        "id": "wwWZ47NHolB6",
        "colab": {
          "base_uri": "https://localhost:8080/"
        },
        "outputId": "3a9e48d1-9b0b-4122-f8b2-d350a72481b0"
      },
      "source": [
        "model = build_model()\n",
        "model.summary()"
      ],
      "execution_count": 8,
      "outputs": [
        {
          "output_type": "stream",
          "name": "stdout",
          "text": [
            "Model: \"sequential\"\n",
            "_________________________________________________________________\n",
            " Layer (type)                Output Shape              Param #   \n",
            "=================================================================\n",
            " embedding (Embedding)       (None, 500, 32)           320000    \n",
            "                                                                 \n",
            " conv1d (Conv1D)             (None, 494, 32)           7200      \n",
            "                                                                 \n",
            " max_pooling1d (MaxPooling1D  (None, 70, 32)           0         \n",
            " )                                                               \n",
            "                                                                 \n",
            " conv1d_1 (Conv1D)           (None, 66, 32)            5152      \n",
            "                                                                 \n",
            " max_pooling1d_1 (MaxPooling  (None, 13, 32)           0         \n",
            " 1D)                                                             \n",
            "                                                                 \n",
            " global_max_pooling1d (Globa  (None, 32)               0         \n",
            " lMaxPooling1D)                                                  \n",
            "                                                                 \n",
            " dense (Dense)               (None, 1)                 33        \n",
            "                                                                 \n",
            "=================================================================\n",
            "Total params: 332,385\n",
            "Trainable params: 332,385\n",
            "Non-trainable params: 0\n",
            "_________________________________________________________________\n"
          ]
        }
      ]
    },
    {
      "cell_type": "markdown",
      "metadata": {
        "id": "0qUbPGdmpHpQ"
      },
      "source": [
        "### 모델 학습"
      ]
    },
    {
      "cell_type": "code",
      "metadata": {
        "id": "xcCgjLHvonWB",
        "colab": {
          "base_uri": "https://localhost:8080/"
        },
        "outputId": "1ee278bc-6e98-4686-a626-0724bb9819a3"
      },
      "source": [
        "history = model.fit(pad_x_train, y_train, batch_size=128, epochs=30, validation_split=0.2)"
      ],
      "execution_count": 9,
      "outputs": [
        {
          "output_type": "stream",
          "name": "stdout",
          "text": [
            "Epoch 1/30\n",
            "157/157 [==============================] - 33s 17ms/step - loss: 0.6927 - accuracy: 0.5144 - val_loss: 0.6920 - val_accuracy: 0.5598\n",
            "Epoch 2/30\n",
            "157/157 [==============================] - 2s 16ms/step - loss: 0.6901 - accuracy: 0.6112 - val_loss: 0.6904 - val_accuracy: 0.5836\n",
            "Epoch 3/30\n",
            "157/157 [==============================] - 2s 14ms/step - loss: 0.6861 - accuracy: 0.6726 - val_loss: 0.6857 - val_accuracy: 0.6290\n",
            "Epoch 4/30\n",
            "157/157 [==============================] - 2s 15ms/step - loss: 0.6769 - accuracy: 0.7494 - val_loss: 0.6710 - val_accuracy: 0.7462\n",
            "Epoch 5/30\n",
            "157/157 [==============================] - 2s 15ms/step - loss: 0.6516 - accuracy: 0.7741 - val_loss: 0.6331 - val_accuracy: 0.7654\n",
            "Epoch 6/30\n",
            "157/157 [==============================] - 2s 15ms/step - loss: 0.5958 - accuracy: 0.7961 - val_loss: 0.5627 - val_accuracy: 0.7910\n",
            "Epoch 7/30\n",
            "157/157 [==============================] - 2s 15ms/step - loss: 0.5116 - accuracy: 0.8216 - val_loss: 0.4795 - val_accuracy: 0.8156\n",
            "Epoch 8/30\n",
            "157/157 [==============================] - 2s 15ms/step - loss: 0.4287 - accuracy: 0.8421 - val_loss: 0.4166 - val_accuracy: 0.8286\n",
            "Epoch 9/30\n",
            "157/157 [==============================] - 2s 16ms/step - loss: 0.3695 - accuracy: 0.8570 - val_loss: 0.3782 - val_accuracy: 0.8376\n",
            "Epoch 10/30\n",
            "157/157 [==============================] - 2s 15ms/step - loss: 0.3289 - accuracy: 0.8699 - val_loss: 0.3562 - val_accuracy: 0.8474\n",
            "Epoch 11/30\n",
            "157/157 [==============================] - 2s 15ms/step - loss: 0.3010 - accuracy: 0.8794 - val_loss: 0.3431 - val_accuracy: 0.8532\n",
            "Epoch 12/30\n",
            "157/157 [==============================] - 2s 14ms/step - loss: 0.2798 - accuracy: 0.8899 - val_loss: 0.3358 - val_accuracy: 0.8580\n",
            "Epoch 13/30\n",
            "157/157 [==============================] - 2s 16ms/step - loss: 0.2627 - accuracy: 0.8978 - val_loss: 0.3293 - val_accuracy: 0.8626\n",
            "Epoch 14/30\n",
            "157/157 [==============================] - 2s 15ms/step - loss: 0.2476 - accuracy: 0.9036 - val_loss: 0.3278 - val_accuracy: 0.8618\n",
            "Epoch 15/30\n",
            "157/157 [==============================] - 2s 14ms/step - loss: 0.2343 - accuracy: 0.9093 - val_loss: 0.3246 - val_accuracy: 0.8656\n",
            "Epoch 16/30\n",
            "157/157 [==============================] - 2s 16ms/step - loss: 0.2226 - accuracy: 0.9161 - val_loss: 0.3237 - val_accuracy: 0.8670\n",
            "Epoch 17/30\n",
            "157/157 [==============================] - 2s 16ms/step - loss: 0.2117 - accuracy: 0.9208 - val_loss: 0.3244 - val_accuracy: 0.8668\n",
            "Epoch 18/30\n",
            "157/157 [==============================] - 2s 15ms/step - loss: 0.2020 - accuracy: 0.9262 - val_loss: 0.3278 - val_accuracy: 0.8664\n",
            "Epoch 19/30\n",
            "157/157 [==============================] - 2s 15ms/step - loss: 0.1929 - accuracy: 0.9308 - val_loss: 0.3273 - val_accuracy: 0.8664\n",
            "Epoch 20/30\n",
            "157/157 [==============================] - 2s 15ms/step - loss: 0.1845 - accuracy: 0.9342 - val_loss: 0.3307 - val_accuracy: 0.8664\n",
            "Epoch 21/30\n",
            "157/157 [==============================] - 2s 16ms/step - loss: 0.1766 - accuracy: 0.9387 - val_loss: 0.3325 - val_accuracy: 0.8674\n",
            "Epoch 22/30\n",
            "157/157 [==============================] - 2s 16ms/step - loss: 0.1693 - accuracy: 0.9419 - val_loss: 0.3356 - val_accuracy: 0.8682\n",
            "Epoch 23/30\n",
            "157/157 [==============================] - 2s 15ms/step - loss: 0.1623 - accuracy: 0.9453 - val_loss: 0.3401 - val_accuracy: 0.8648\n",
            "Epoch 24/30\n",
            "157/157 [==============================] - 2s 16ms/step - loss: 0.1556 - accuracy: 0.9478 - val_loss: 0.3445 - val_accuracy: 0.8646\n",
            "Epoch 25/30\n",
            "157/157 [==============================] - 2s 16ms/step - loss: 0.1493 - accuracy: 0.9499 - val_loss: 0.3482 - val_accuracy: 0.8650\n",
            "Epoch 26/30\n",
            "157/157 [==============================] - 2s 16ms/step - loss: 0.1435 - accuracy: 0.9524 - val_loss: 0.3530 - val_accuracy: 0.8646\n",
            "Epoch 27/30\n",
            "157/157 [==============================] - 2s 16ms/step - loss: 0.1380 - accuracy: 0.9554 - val_loss: 0.3575 - val_accuracy: 0.8646\n",
            "Epoch 28/30\n",
            "157/157 [==============================] - 2s 16ms/step - loss: 0.1326 - accuracy: 0.9568 - val_loss: 0.3629 - val_accuracy: 0.8630\n",
            "Epoch 29/30\n",
            "157/157 [==============================] - 2s 16ms/step - loss: 0.1277 - accuracy: 0.9588 - val_loss: 0.3680 - val_accuracy: 0.8634\n",
            "Epoch 30/30\n",
            "157/157 [==============================] - 2s 15ms/step - loss: 0.1229 - accuracy: 0.9600 - val_loss: 0.3721 - val_accuracy: 0.8636\n"
          ]
        }
      ]
    },
    {
      "cell_type": "markdown",
      "metadata": {
        "id": "n2yEkawIph4C"
      },
      "source": [
        "### 시각화"
      ]
    },
    {
      "cell_type": "code",
      "metadata": {
        "id": "BfKC0UOkpPmP",
        "colab": {
          "base_uri": "https://localhost:8080/",
          "height": 530
        },
        "outputId": "f19513e6-71a2-4079-ea52-77974b9e9b29"
      },
      "source": [
        "import matplotlib.pyplot as plt\n",
        "\n",
        "loss = history.history['loss']\n",
        "val_loss = history.history['val_loss']\n",
        "print(history.history.keys())\n",
        "acc = history.history['accuracy']\n",
        "val_acc = history.history['val_accuracy']\n",
        "\n",
        "epochs = range(1, len(loss) + 1)\n",
        "\n",
        "plt.plot(epochs, loss, 'b--', label='training loss')\n",
        "plt.plot(epochs, val_loss, 'r:', label='validation loss')\n",
        "plt.grid()\n",
        "plt.legend()\n",
        "\n",
        "plt.figure()\n",
        "plt.plot(epochs, acc, 'b--', label='training accuracy')\n",
        "plt.plot(epochs, val_acc, 'r:', label='validation accuracy')\n",
        "plt.grid()\n",
        "plt.legend()\n",
        "\n",
        "plt.show()\n",
        "\n"
      ],
      "execution_count": 14,
      "outputs": [
        {
          "output_type": "stream",
          "name": "stdout",
          "text": [
            "dict_keys(['loss', 'accuracy', 'val_loss', 'val_accuracy'])\n"
          ]
        },
        {
          "output_type": "display_data",
          "data": {
            "image/png": "[encoded data removed]",
            "text/plain": [
              "<Figure size 432x288 with 1 Axes>"
            ]
          },
          "metadata": {
            "needs_background": "light"
          }
        },
        {
          "output_type": "display_data",
          "data": {
            "image/png": "[encoded data removed]",
            "text/plain": [
              "<Figure size 432x288 with 1 Axes>"
            ]
          },
          "metadata": {
            "needs_background": "light"
          }
        }
      ]
    },
    {
      "cell_type": "code",
      "metadata": {
        "colab": {
          "base_uri": "https://localhost:8080/"
        },
        "id": "LX_BYm0X0fYU",
        "outputId": "7654db6b-f7df-4ea2-ed44-80e1c5f537d8"
      },
      "source": [
        "model.evaluate(pad_x_test, y_test)"
      ],
      "execution_count": 15,
      "outputs": [
        {
          "output_type": "stream",
          "name": "stdout",
          "text": [
            "782/782 [==============================] - 3s 4ms/step - loss: 0.3960 - accuracy: 0.8466\n"
          ]
        },
        {
          "output_type": "execute_result",
          "data": {
            "text/plain": [
              "[0.39604440331459045, 0.846560001373291]"
            ]
          },
          "metadata": {},
          "execution_count": 15
        }
      ]
    },
    {
      "cell_type": "markdown",
      "metadata": {
        "id": "Oz_Iu_VHV7Z5"
      },
      "source": [
        "## Reuters 데이터"
      ]
    },
    {
      "cell_type": "markdown",
      "metadata": {
        "id": "4_Q6p0nhV7Z6"
      },
      "source": [
        "### 데이터 로드 및 전처리"
      ]
    },
    {
      "cell_type": "code",
      "metadata": {
        "id": "waEmkCowV7Z7"
      },
      "source": [
        "from tensorflow.keras.datasets import reuters"
      ],
      "execution_count": 16,
      "outputs": []
    },
    {
      "cell_type": "code",
      "metadata": {
        "id": "dggcmeJ4V7Z_",
        "colab": {
          "base_uri": "https://localhost:8080/"
        },
        "outputId": "97dedf8c-9d1a-48ad-fb88-28d8a9de84e4"
      },
      "source": [
        "num_words = 10000\n",
        "max_len = 500\n",
        "\n",
        "(input_train, y_train), (input_test, y_test) = reuters.load_data(num_words=num_words)\n",
        "\n",
        "print(len(input_train))\n",
        "print(len(input_test))"
      ],
      "execution_count": 25,
      "outputs": [
        {
          "output_type": "stream",
          "name": "stdout",
          "text": [
            "8982\n",
            "2246\n"
          ]
        }
      ]
    },
    {
      "cell_type": "code",
      "metadata": {
        "id": "EBOJIgbgV7aB",
        "colab": {
          "base_uri": "https://localhost:8080/"
        },
        "outputId": "0a2872fc-317a-48a0-abfd-35705ad7c4aa"
      },
      "source": [
        "pad_x_train = pad_sequences(input_train, maxlen=max_len)\n",
        "pad_x_test = pad_sequences(input_test, maxlen=max_len)\n",
        "\n",
        "print(pad_x_train.shape)\n",
        "print(pad_x_test.shape)"
      ],
      "execution_count": 26,
      "outputs": [
        {
          "output_type": "stream",
          "name": "stdout",
          "text": [
            "(8982, 500)\n",
            "(2246, 500)\n"
          ]
        }
      ]
    },
    {
      "cell_type": "markdown",
      "metadata": {
        "id": "xehgNec0V7aE"
      },
      "source": [
        "### 모델 구성"
      ]
    },
    {
      "cell_type": "code",
      "metadata": {
        "id": "RTV2qF8_V7aE"
      },
      "source": [
        "def build_model():\n",
        "  model = Sequential()\n",
        "\n",
        "  model.add(Embedding(input_dim=num_words, output_dim=64, input_length=max_len))\n",
        "  model.add(Conv1D(64, 7, activation='relu'))\n",
        "  model.add(MaxPooling1D(7))\n",
        "  model.add(Conv1D(64, 5, activation='relu'))\n",
        "  model.add(MaxPooling1D(5))\n",
        "  model.add(GlobalMaxPooling1D())\n",
        "  model.add(Dense(46, activation='softmax'))\n",
        "\n",
        "  model.compile(optimizer='adam',\n",
        "                loss='sparse_categorical_crossentropy',\n",
        "                metrics=['accuracy'])\n",
        "  return model\n"
      ],
      "execution_count": 27,
      "outputs": []
    },
    {
      "cell_type": "code",
      "metadata": {
        "id": "48n2W3xpV7aG",
        "colab": {
          "base_uri": "https://localhost:8080/"
        },
        "outputId": "a1a05724-137a-40c8-9143-0ef47f622827"
      },
      "source": [
        "model = build_model()\n",
        "model.summary()"
      ],
      "execution_count": 28,
      "outputs": [
        {
          "output_type": "stream",
          "name": "stdout",
          "text": [
            "Model: \"sequential_2\"\n",
            "_________________________________________________________________\n",
            " Layer (type)                Output Shape              Param #   \n",
            "=================================================================\n",
            " embedding_2 (Embedding)     (None, 500, 64)           640000    \n",
            "                                                                 \n",
            " conv1d_4 (Conv1D)           (None, 494, 64)           28736     \n",
            "                                                                 \n",
            " max_pooling1d_4 (MaxPooling  (None, 70, 64)           0         \n",
            " 1D)                                                             \n",
            "                                                                 \n",
            " conv1d_5 (Conv1D)           (None, 66, 64)            20544     \n",
            "                                                                 \n",
            " max_pooling1d_5 (MaxPooling  (None, 13, 64)           0         \n",
            " 1D)                                                             \n",
            "                                                                 \n",
            " global_max_pooling1d_2 (Glo  (None, 64)               0         \n",
            " balMaxPooling1D)                                                \n",
            "                                                                 \n",
            " dense_2 (Dense)             (None, 46)                2990      \n",
            "                                                                 \n",
            "=================================================================\n",
            "Total params: 692,270\n",
            "Trainable params: 692,270\n",
            "Non-trainable params: 0\n",
            "_________________________________________________________________\n"
          ]
        }
      ]
    },
    {
      "cell_type": "markdown",
      "metadata": {
        "id": "WeRmu5WMV7aI"
      },
      "source": [
        "### 모델 학습"
      ]
    },
    {
      "cell_type": "code",
      "metadata": {
        "id": "BGVdYyIrV7aJ",
        "colab": {
          "base_uri": "https://localhost:8080/"
        },
        "outputId": "ddac437c-ae14-4d3a-bed8-62a92f4b4e85"
      },
      "source": [
        "history = model.fit(pad_x_train, y_train, batch_size=128, epochs=30, validation_split=0.2)"
      ],
      "execution_count": 29,
      "outputs": [
        {
          "output_type": "stream",
          "name": "stdout",
          "text": [
            "Epoch 1/30\n",
            "57/57 [==============================] - 3s 28ms/step - loss: 2.7101 - accuracy: 0.3691 - val_loss: 2.0056 - val_accuracy: 0.4886\n",
            "Epoch 2/30\n",
            "57/57 [==============================] - 1s 22ms/step - loss: 1.8278 - accuracy: 0.5307 - val_loss: 1.6863 - val_accuracy: 0.5659\n",
            "Epoch 3/30\n",
            "57/57 [==============================] - 1s 22ms/step - loss: 1.5947 - accuracy: 0.5972 - val_loss: 1.5799 - val_accuracy: 0.6166\n",
            "Epoch 4/30\n",
            "57/57 [==============================] - 1s 21ms/step - loss: 1.4239 - accuracy: 0.6501 - val_loss: 1.4496 - val_accuracy: 0.6667\n",
            "Epoch 5/30\n",
            "57/57 [==============================] - 1s 22ms/step - loss: 1.2169 - accuracy: 0.7148 - val_loss: 1.3632 - val_accuracy: 0.6828\n",
            "Epoch 6/30\n",
            "57/57 [==============================] - 1s 22ms/step - loss: 1.0327 - accuracy: 0.7493 - val_loss: 1.2913 - val_accuracy: 0.7078\n",
            "Epoch 7/30\n",
            "57/57 [==============================] - 1s 21ms/step - loss: 0.8521 - accuracy: 0.7898 - val_loss: 1.2788 - val_accuracy: 0.7140\n",
            "Epoch 8/30\n",
            "57/57 [==============================] - 1s 22ms/step - loss: 0.7015 - accuracy: 0.8200 - val_loss: 1.3170 - val_accuracy: 0.7229\n",
            "Epoch 9/30\n",
            "57/57 [==============================] - 1s 22ms/step - loss: 0.5759 - accuracy: 0.8559 - val_loss: 1.4026 - val_accuracy: 0.7279\n",
            "Epoch 10/30\n",
            "57/57 [==============================] - 1s 22ms/step - loss: 0.4744 - accuracy: 0.8757 - val_loss: 1.4390 - val_accuracy: 0.7318\n",
            "Epoch 11/30\n",
            "57/57 [==============================] - 1s 21ms/step - loss: 0.3880 - accuracy: 0.9047 - val_loss: 1.4928 - val_accuracy: 0.7357\n",
            "Epoch 12/30\n",
            "57/57 [==============================] - 1s 22ms/step - loss: 0.3190 - accuracy: 0.9265 - val_loss: 1.5575 - val_accuracy: 0.7412\n",
            "Epoch 13/30\n",
            "57/57 [==============================] - 1s 23ms/step - loss: 0.2703 - accuracy: 0.9397 - val_loss: 1.6167 - val_accuracy: 0.7334\n",
            "Epoch 14/30\n",
            "57/57 [==============================] - 1s 22ms/step - loss: 0.2354 - accuracy: 0.9453 - val_loss: 1.6911 - val_accuracy: 0.7390\n",
            "Epoch 15/30\n",
            "57/57 [==============================] - 1s 21ms/step - loss: 0.2032 - accuracy: 0.9542 - val_loss: 1.7295 - val_accuracy: 0.7251\n",
            "Epoch 16/30\n",
            "57/57 [==============================] - 1s 21ms/step - loss: 0.1939 - accuracy: 0.9560 - val_loss: 1.7094 - val_accuracy: 0.7379\n",
            "Epoch 17/30\n",
            "57/57 [==============================] - 1s 23ms/step - loss: 0.1789 - accuracy: 0.9574 - val_loss: 1.7398 - val_accuracy: 0.7346\n",
            "Epoch 18/30\n",
            "57/57 [==============================] - 1s 22ms/step - loss: 0.1610 - accuracy: 0.9584 - val_loss: 1.8060 - val_accuracy: 0.7340\n",
            "Epoch 19/30\n",
            "57/57 [==============================] - 1s 22ms/step - loss: 0.1508 - accuracy: 0.9623 - val_loss: 1.8081 - val_accuracy: 0.7284\n",
            "Epoch 20/30\n",
            "57/57 [==============================] - 1s 22ms/step - loss: 0.1479 - accuracy: 0.9630 - val_loss: 1.8249 - val_accuracy: 0.7295\n",
            "Epoch 21/30\n",
            "57/57 [==============================] - 1s 21ms/step - loss: 0.1415 - accuracy: 0.9620 - val_loss: 1.8418 - val_accuracy: 0.7318\n",
            "Epoch 22/30\n",
            "57/57 [==============================] - 1s 22ms/step - loss: 0.1351 - accuracy: 0.9627 - val_loss: 1.8385 - val_accuracy: 0.7251\n",
            "Epoch 23/30\n",
            "57/57 [==============================] - 1s 22ms/step - loss: 0.1420 - accuracy: 0.9617 - val_loss: 1.8001 - val_accuracy: 0.7334\n",
            "Epoch 24/30\n",
            "57/57 [==============================] - 1s 22ms/step - loss: 0.1208 - accuracy: 0.9638 - val_loss: 1.8790 - val_accuracy: 0.7234\n",
            "Epoch 25/30\n",
            "57/57 [==============================] - 1s 23ms/step - loss: 0.1167 - accuracy: 0.9638 - val_loss: 1.8148 - val_accuracy: 0.7396\n",
            "Epoch 26/30\n",
            "57/57 [==============================] - 1s 23ms/step - loss: 0.1135 - accuracy: 0.9655 - val_loss: 1.8093 - val_accuracy: 0.7429\n",
            "Epoch 27/30\n",
            "57/57 [==============================] - 1s 22ms/step - loss: 0.1131 - accuracy: 0.9637 - val_loss: 1.8391 - val_accuracy: 0.7351\n",
            "Epoch 28/30\n",
            "57/57 [==============================] - 1s 22ms/step - loss: 0.1138 - accuracy: 0.9628 - val_loss: 1.8098 - val_accuracy: 0.7390\n",
            "Epoch 29/30\n",
            "57/57 [==============================] - 1s 22ms/step - loss: 0.1071 - accuracy: 0.9652 - val_loss: 1.8218 - val_accuracy: 0.7401\n",
            "Epoch 30/30\n",
            "57/57 [==============================] - 1s 23ms/step - loss: 0.1025 - accuracy: 0.9656 - val_loss: 1.8342 - val_accuracy: 0.7401\n"
          ]
        }
      ]
    },
    {
      "cell_type": "markdown",
      "metadata": {
        "id": "ao8NNj2SV7aL"
      },
      "source": [
        "### 시각화"
      ]
    },
    {
      "cell_type": "code",
      "metadata": {
        "id": "D_CisVtyV7aL",
        "colab": {
          "base_uri": "https://localhost:8080/",
          "height": 530
        },
        "outputId": "854c5630-1ddc-479b-a1a6-80011be1a098"
      },
      "source": [
        "\n",
        "loss = history.history['loss']\n",
        "val_loss = history.history['val_loss']\n",
        "print(history.history.keys())\n",
        "acc = history.history['accuracy']\n",
        "val_acc = history.history['val_accuracy']\n",
        "\n",
        "epochs = range(1, len(loss) + 1)\n",
        "\n",
        "plt.plot(epochs, loss, 'b--', label='training loss')\n",
        "plt.plot(epochs, val_loss, 'r:', label='validation loss')\n",
        "plt.grid()\n",
        "plt.legend()\n",
        "\n",
        "plt.figure()\n",
        "plt.plot(epochs, acc, 'b--', label='training accuracy')\n",
        "plt.plot(epochs, val_acc, 'r:', label='validation accuracy')\n",
        "plt.grid()\n",
        "plt.legend()\n",
        "\n",
        "plt.show()"
      ],
      "execution_count": 22,
      "outputs": [
        {
          "output_type": "stream",
          "name": "stdout",
          "text": [
            "dict_keys(['loss', 'accuracy', 'val_loss', 'val_accuracy'])\n"
          ]
        },
        {
          "output_type": "display_data",
          "data": {
            "image/png": "[encoded data removed]",
            "text/plain": [
              "<Figure size 432x288 with 1 Axes>"
            ]
          },
          "metadata": {
            "needs_background": "light"
          }
        },
        {
          "output_type": "display_data",
          "data": {
            "image/png": "[encoded data removed]",
            "text/plain": [
              "<Figure size 432x288 with 1 Axes>"
            ]
          },
          "metadata": {
            "needs_background": "light"
          }
        }
      ]
    },
    {
      "cell_type": "code",
      "metadata": {
        "id": "NCsNsoiUV7aP",
        "colab": {
          "base_uri": "https://localhost:8080/"
        },
        "outputId": "a32e1dbb-dea4-4137-c8d7-79542d23dd70"
      },
      "source": [
        "model.evaluate(pad_x_test, y_test)"
      ],
      "execution_count": 23,
      "outputs": [
        {
          "output_type": "stream",
          "name": "stdout",
          "text": [
            "71/71 [==============================] - 0s 5ms/step - loss: 2.1163 - accuracy: 0.6986\n"
          ]
        },
        {
          "output_type": "execute_result",
          "data": {
            "text/plain": [
              "[2.1162514686584473, 0.6985752582550049]"
            ]
          },
          "metadata": {},
          "execution_count": 23
        }
      ]
    },
    {
      "cell_type": "code",
      "metadata": {
        "id": "-qpstmhg19gz"
      },
      "source": [
        ""
      ],
      "execution_count": null,
      "outputs": []
    }
  ]
}