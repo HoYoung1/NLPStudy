{
  "nbformat": 4,
  "nbformat_minor": 0,
  "metadata": {
    "colab": {
      "name": "8 순환 신경망(Recurrent Neural Network).ipynb",
      "provenance": [],
      "collapsed_sections": [],
      "include_colab_link": true
    },
    "kernelspec": {
      "name": "python3",
      "display_name": "Python 3"
    },
    "accelerator": "GPU"
  },
  "cells": [
    {
      "cell_type": "markdown",
      "metadata": {
        "id": "view-in-github",
        "colab_type": "text"
      },
      "source": [
        "<a href=\"https://colab.research.google.com/github/HoYoung1/NLPStudy/blob/main/8_%EC%88%9C%ED%99%98_%EC%8B%A0%EA%B2%BD%EB%A7%9D(Recurrent_Neural_Network).ipynb\" target=\"_parent\"><img src=\"https://colab.research.google.com/assets/colab-badge.svg\" alt=\"Open In Colab\"/></a>"
      ]
    },
    {
      "cell_type": "markdown",
      "metadata": {
        "id": "jacLnynuqUXZ"
      },
      "source": [
        "# 순환 신경망 (Recurrent Neural Network, RNN)\n",
        "\n",
        "- **순서가 있는 데이터**를 입력으로 받음\n",
        "\n",
        "- 변화하는 입력에 대한 출력을 얻음\n",
        "\n",
        "- 시계열(날씨, 주가 등), 자연어와 같이 **시간의 흐름에 따라 변화하고, 그 변화가 의미를 갖는 데이터** "
      ]
    },
    {
      "cell_type": "markdown",
      "metadata": {
        "id": "3P0gpo4gqWUz"
      },
      "source": [
        "## Feed Forward Network vs Recurrent Network\n",
        "\n",
        "- Feed Forward Net (앞먹임 구조)\n",
        "  - 일반적인 구조의 신경망\n",
        "\n",
        "  - 입력 → 은닉 → 출력층 으로 이어지는 단방향 구조\n",
        "\n",
        "  - 이전 스텝의 출력의 영향을 받지 않음\n",
        "\n",
        "- Recurrent Net (되먹임 구조)\n",
        "  - 이전 층(Layer), 또는 스텝의 출력이 다시 입력으로 연결되는 신경망 구조\n",
        "\n",
        "  - 각 스텝마다 이전 상태를 기억 시스템(Memory System)  \n",
        "\n",
        "  - 현재 상태가 이전 상태에 종속\n",
        "\n",
        "  <br>\n",
        "\n",
        "  <img src=\"https://www.researchgate.net/profile/Engin_Pekel/publication/315111480/figure/fig1/AS:472548166115333@1489675670530/Feed-forward-and-recurrent-ANN-architecture.png\">\n",
        "\n",
        "  <sub>출처: https://www.researchgate.net/figure/Feed-forward-and-recurrent-ANN-architecture_fig1_315111480</sub>\n",
        "\n"
      ]
    },
    {
      "cell_type": "markdown",
      "metadata": {
        "id": "2h5HFH0BqYho"
      },
      "source": [
        "## 순환 신경망 구조\n",
        "\n",
        "<img src=\"https://colah.github.io/posts/2015-08-Understanding-LSTMs/img/RNN-unrolled.png\" width=\"700\">\n",
        "\n",
        "<br>\n",
        "\n",
        "- 입력 $x_t$에서 $t$는 시각을 뜻함\n",
        "\n",
        "- $X_0$에 대한 출력 $Y_0$이 다음 레이어에 전달\n",
        "\n",
        "- 각각의 입력에 대해 출력은 해당 레이어대로 출력값을 반환"
      ]
    },
    {
      "cell_type": "markdown",
      "metadata": {
        "id": "kowOGfSLqbSn"
      },
      "source": [
        "## 순환 신경망의 다양한 구조\n",
        "\n",
        "<img src=\"https://static.packt-cdn.com/products/9781789346640/graphics/2d4a64ef-9cf9-4b4a-9049-cb9de7a07f89.png\">\n",
        "  \n",
        "  <sub>출처: https://subscription.packtpub.com/book/big_data_and_business_intelligence/9781789346640/11/ch11lvl1sec80/introduction</sub>\n",
        "\n",
        "- one to one\n",
        "  - RNN\n",
        "\n",
        "- one to many\n",
        "  - Image Captioning \n",
        "\n",
        "  - 이미지에 대한 설명 생성\n",
        "\n",
        "- many to one\n",
        "  - Sentiment Classification\n",
        "\n",
        "  - 문장의 긍정/부정을 판단하는 감정 분석\n",
        "\n",
        "- many to many\n",
        "  - Machine Translation\n",
        "\n",
        "  - 하나의 언어를 다른 언어로 번역하는 기계 번역\n",
        "\n",
        "- many to many\n",
        "  - Video Classification(Frame Level)\n",
        "\n",
        "\n"
      ]
    },
    {
      "cell_type": "markdown",
      "metadata": {
        "id": "uiIA4Ue7-G5B"
      },
      "source": [
        "## 두 가지 정보(현재 입력, 이전 시각의 출력)을 처리하는 수식\n",
        "$\\qquad h_t = tanh ( \\ h_{t-1} W_h \\ + \\ x_t W_x + b) $\n",
        "\n",
        "- $W_x$ : 입력 $x$를 출력 $h$로 변환하기 위한 가중치\n",
        "\n",
        "- $W_h$ : 다음 시각의 출력으로 변환하기 위한 가중치\n",
        "\n",
        "- $h$는 '상태'를 기억\n",
        "\n",
        "- $h_t \\ $를 은닉 상태(hidden state) 또는 은닉 상태 벡터(hidden state vector)라고도 불림\n",
        "\n",
        "  <sub>출처: https://colah.github.io/posts/2015-08-Understanding-LSTMs/</sub>"
      ]
    },
    {
      "cell_type": "markdown",
      "metadata": {
        "id": "lp3_sVIjHk0F"
      },
      "source": [
        "## 순환 신경망 레이어 (RNN Layer)\n",
        "\n",
        "- 입력: `(timesteps, input_features)`\n",
        "\n",
        "- 출력: `(timesteps, output_features)`"
      ]
    },
    {
      "cell_type": "code",
      "metadata": {
        "id": "n08yr0aAIbFD"
      },
      "source": [
        "import numpy as np"
      ],
      "execution_count": 1,
      "outputs": []
    },
    {
      "cell_type": "code",
      "metadata": {
        "id": "ZKIInEEZIcBj"
      },
      "source": [
        "timesteps = 100\n",
        "input_features = 32\n",
        "output_features = 64\n",
        "\n",
        "inputs = np.random.random((timesteps, input_features))\n",
        "\n",
        "state_t = np.zeros((output_features, ))\n",
        "\n",
        "W = np.random.random((output_features, input_features))\n",
        "U = np.random.random((output_features, output_features))\n",
        "b = np.random.random((output_features, ))\n",
        "\n",
        "sucessive_outputs = []\n",
        "\n",
        "for input_t in inputs:\n",
        "  output_t = np.tanh(np.dot(W, input_t) + np.dot(U, state_t) + b)\n",
        "  sucessive_outputs.append(output_t)\n",
        "  state_t = output_t\n",
        "\n",
        "final_output_sequence = np.stack(sucessive_outputs, axis=0)"
      ],
      "execution_count": 3,
      "outputs": []
    },
    {
      "cell_type": "markdown",
      "metadata": {
        "id": "bEZ8dQEEKxlQ"
      },
      "source": [
        "## 케라스의 순환층\n",
        "- `SimpleRNN` layer\n",
        "\n",
        "- 입력: `(batch_size, timesteps, input_features)`\n",
        "\n",
        "- 출력\n",
        "  - `return_sequences`로 결정할 수 있음\n",
        "  \n",
        "  - 3D 텐서\n",
        "    - 타임스텝의 출력을 모은 전체 시퀀스를 반환\n",
        "\n",
        "    - `(batch_size, timesteps, output_features)`\n",
        "\n",
        "  - 2D 텐서\n",
        "    - 입력 시퀀스에 대한 마지막 출력만 반환\n",
        "\n",
        "    - `(batch_size, output_features)`\n"
      ]
    },
    {
      "cell_type": "code",
      "metadata": {
        "id": "lZ1YCi1iKMC8"
      },
      "source": [
        "from tensorflow.keras.layers import SimpleRNN, Embedding\n",
        "from tensorflow.keras.models import Sequential"
      ],
      "execution_count": 4,
      "outputs": []
    },
    {
      "cell_type": "code",
      "metadata": {
        "id": "GQ9LbTgoKxIl",
        "colab": {
          "base_uri": "https://localhost:8080/"
        },
        "outputId": "63034f78-4e77-48fb-f871-8fca012189bc"
      },
      "source": [
        "model = Sequential()\n",
        "model.add(Embedding(10000, 32))\n",
        "model.add(SimpleRNN(32))\n",
        "model.summary()"
      ],
      "execution_count": 5,
      "outputs": [
        {
          "output_type": "stream",
          "name": "stdout",
          "text": [
            "Model: \"sequential\"\n",
            "_________________________________________________________________\n",
            "Layer (type)                 Output Shape              Param #   \n",
            "=================================================================\n",
            "embedding (Embedding)        (None, None, 32)          320000    \n",
            "_________________________________________________________________\n",
            "simple_rnn (SimpleRNN)       (None, 32)                2080      \n",
            "=================================================================\n",
            "Total params: 322,080\n",
            "Trainable params: 322,080\n",
            "Non-trainable params: 0\n",
            "_________________________________________________________________\n"
          ]
        }
      ]
    },
    {
      "cell_type": "code",
      "metadata": {
        "id": "KDxE5Jv0Kc7O",
        "colab": {
          "base_uri": "https://localhost:8080/"
        },
        "outputId": "e247d291-2f91-431a-8b4f-b12415059421"
      },
      "source": [
        "model = Sequential()\n",
        "model.add(Embedding(10000, 32))\n",
        "model.add(SimpleRNN(32, return_sequences=True))\n",
        "model.summary()"
      ],
      "execution_count": 6,
      "outputs": [
        {
          "output_type": "stream",
          "name": "stdout",
          "text": [
            "Model: \"sequential_1\"\n",
            "_________________________________________________________________\n",
            "Layer (type)                 Output Shape              Param #   \n",
            "=================================================================\n",
            "embedding_1 (Embedding)      (None, None, 32)          320000    \n",
            "_________________________________________________________________\n",
            "simple_rnn_1 (SimpleRNN)     (None, None, 32)          2080      \n",
            "=================================================================\n",
            "Total params: 322,080\n",
            "Trainable params: 322,080\n",
            "Non-trainable params: 0\n",
            "_________________________________________________________________\n"
          ]
        }
      ]
    },
    {
      "cell_type": "markdown",
      "metadata": {
        "id": "E-MDIz1zcIyP"
      },
      "source": [
        "- 네트워크의 표현력을 증가시키기 위해 여러 개의 순환층을 차례대로 쌓는 것이 유용할 때가 있음\n",
        "\n",
        "  - 이런 설정에서는 중간층들이 전체 출력 시퀀스를 반환하도록 설정"
      ]
    },
    {
      "cell_type": "code",
      "metadata": {
        "id": "E1tUaIe2L7GZ",
        "colab": {
          "base_uri": "https://localhost:8080/"
        },
        "outputId": "6a9cc243-802c-4f6f-eef2-5969e0a5b6f3"
      },
      "source": [
        "model = Sequential()\n",
        "model.add(Embedding(10000, 32))\n",
        "model.add(SimpleRNN(32, return_sequences=True))\n",
        "model.add(SimpleRNN(32, return_sequences=True))\n",
        "model.add(SimpleRNN(32, return_sequences=True))\n",
        "model.add(SimpleRNN(32))\n",
        "model.summary()"
      ],
      "execution_count": 8,
      "outputs": [
        {
          "output_type": "stream",
          "name": "stdout",
          "text": [
            "Model: \"sequential_2\"\n",
            "_________________________________________________________________\n",
            "Layer (type)                 Output Shape              Param #   \n",
            "=================================================================\n",
            "embedding_2 (Embedding)      (None, None, 32)          320000    \n",
            "_________________________________________________________________\n",
            "simple_rnn_2 (SimpleRNN)     (None, None, 32)          2080      \n",
            "_________________________________________________________________\n",
            "simple_rnn_3 (SimpleRNN)     (None, None, 32)          2080      \n",
            "_________________________________________________________________\n",
            "simple_rnn_4 (SimpleRNN)     (None, None, 32)          2080      \n",
            "_________________________________________________________________\n",
            "simple_rnn_5 (SimpleRNN)     (None, 32)                2080      \n",
            "=================================================================\n",
            "Total params: 328,320\n",
            "Trainable params: 328,320\n",
            "Non-trainable params: 0\n",
            "_________________________________________________________________\n"
          ]
        }
      ]
    },
    {
      "cell_type": "markdown",
      "metadata": {
        "id": "j0CNAzN_deXE"
      },
      "source": [
        "## IMDB 데이터 적용"
      ]
    },
    {
      "cell_type": "markdown",
      "metadata": {
        "id": "W1SbNYRdmVTY"
      },
      "source": [
        "### 데이터 로드"
      ]
    },
    {
      "cell_type": "code",
      "metadata": {
        "id": "-27Tkihbcei2"
      },
      "source": [
        "from tensorflow.keras.datasets import imdb\n",
        "from tensorflow.keras.preprocessing import sequence "
      ],
      "execution_count": 9,
      "outputs": []
    },
    {
      "cell_type": "code",
      "metadata": {
        "id": "KL-_piPIdms6",
        "colab": {
          "base_uri": "https://localhost:8080/"
        },
        "outputId": "26681e40-8cde-4c65-ec8d-720875cd67ed"
      },
      "source": [
        "num_words = 10000\n",
        "max_len = 500\n",
        "batch_size = 32\n",
        "\n",
        "(input_train, y_train), (input_test, y_test) = imdb.load_data(num_words=num_words)\n",
        "print(len(input_train))\n",
        "print(len(input_test))\n",
        "\n",
        "input_train = sequence.pad_sequences(input_train, maxlen=max_len)\n",
        "input_test = sequence.pad_sequences(input_test, maxlen=max_len)\n",
        "print(input_train.shape)\n",
        "print(input_test.shape)"
      ],
      "execution_count": 10,
      "outputs": [
        {
          "output_type": "stream",
          "name": "stdout",
          "text": [
            "Downloading data from https://storage.googleapis.com/tensorflow/tf-keras-datasets/imdb.npz\n",
            "17465344/17464789 [==============================] - 1s 0us/step\n",
            "17473536/17464789 [==============================] - 1s 0us/step\n",
            "25000\n",
            "25000\n",
            "(25000, 500)\n",
            "(25000, 500)\n"
          ]
        }
      ]
    },
    {
      "cell_type": "markdown",
      "metadata": {
        "id": "uf2EVnzceS4R"
      },
      "source": [
        "### 모델 구성"
      ]
    },
    {
      "cell_type": "code",
      "metadata": {
        "id": "d7dfeDC5eMdj"
      },
      "source": [
        "from tensorflow.keras.layers import Dense"
      ],
      "execution_count": 11,
      "outputs": []
    },
    {
      "cell_type": "code",
      "metadata": {
        "id": "KnAUijOReWGu",
        "colab": {
          "base_uri": "https://localhost:8080/"
        },
        "outputId": "e6d15e01-3846-4afd-f1d1-0d72b7d2c5ed"
      },
      "source": [
        "model = Sequential()\n",
        "\n",
        "model.add(Embedding(num_words, 32))\n",
        "model.add(SimpleRNN(32))\n",
        "model.add(Dense(1, activation='sigmoid'))\n",
        "\n",
        "model.compile(optimizer='rmsprop', loss='binary_crossentropy', metrics=['acc'])\n",
        "model.summary()"
      ],
      "execution_count": 12,
      "outputs": [
        {
          "output_type": "stream",
          "name": "stdout",
          "text": [
            "Model: \"sequential_3\"\n",
            "_________________________________________________________________\n",
            "Layer (type)                 Output Shape              Param #   \n",
            "=================================================================\n",
            "embedding_3 (Embedding)      (None, None, 32)          320000    \n",
            "_________________________________________________________________\n",
            "simple_rnn_6 (SimpleRNN)     (None, 32)                2080      \n",
            "_________________________________________________________________\n",
            "dense (Dense)                (None, 1)                 33        \n",
            "=================================================================\n",
            "Total params: 322,113\n",
            "Trainable params: 322,113\n",
            "Non-trainable params: 0\n",
            "_________________________________________________________________\n"
          ]
        }
      ]
    },
    {
      "cell_type": "markdown",
      "metadata": {
        "id": "pU_9-Hu7mcMa"
      },
      "source": [
        "### 모델 학습"
      ]
    },
    {
      "cell_type": "code",
      "metadata": {
        "id": "XdPtzPwNeonA",
        "colab": {
          "base_uri": "https://localhost:8080/"
        },
        "outputId": "3c29a49f-d942-4d2d-a4a1-7c6d74c17364"
      },
      "source": [
        "history = model.fit(input_train, y_train, epochs=10, batch_size=128, validation_split=0.2)"
      ],
      "execution_count": 13,
      "outputs": [
        {
          "output_type": "stream",
          "name": "stdout",
          "text": [
            "Epoch 1/10\n",
            "157/157 [==============================] - 108s 663ms/step - loss: 0.6761 - acc: 0.5705 - val_loss: 0.5890 - val_acc: 0.7720\n",
            "Epoch 2/10\n",
            "157/157 [==============================] - 103s 656ms/step - loss: 0.4601 - acc: 0.8001 - val_loss: 0.4190 - val_acc: 0.8188\n",
            "Epoch 3/10\n",
            "157/157 [==============================] - 102s 649ms/step - loss: 0.3118 - acc: 0.8749 - val_loss: 0.3634 - val_acc: 0.8570\n",
            "Epoch 4/10\n",
            "157/157 [==============================] - 105s 667ms/step - loss: 0.2429 - acc: 0.9054 - val_loss: 0.3990 - val_acc: 0.8204\n",
            "Epoch 5/10\n",
            "157/157 [==============================] - 102s 652ms/step - loss: 0.1881 - acc: 0.9308 - val_loss: 0.3993 - val_acc: 0.8574\n",
            "Epoch 6/10\n",
            "157/157 [==============================] - 102s 650ms/step - loss: 0.1418 - acc: 0.9499 - val_loss: 0.4073 - val_acc: 0.8454\n",
            "Epoch 7/10\n",
            "157/157 [==============================] - 102s 652ms/step - loss: 0.0980 - acc: 0.9667 - val_loss: 0.4489 - val_acc: 0.8366\n",
            "Epoch 8/10\n",
            "157/157 [==============================] - 101s 646ms/step - loss: 0.0636 - acc: 0.9805 - val_loss: 0.7324 - val_acc: 0.7286\n",
            "Epoch 9/10\n",
            "157/157 [==============================] - 102s 648ms/step - loss: 0.0389 - acc: 0.9887 - val_loss: 0.7071 - val_acc: 0.8118\n",
            "Epoch 10/10\n",
            "157/157 [==============================] - 102s 649ms/step - loss: 0.0303 - acc: 0.9909 - val_loss: 0.5850 - val_acc: 0.8302\n"
          ]
        }
      ]
    },
    {
      "cell_type": "markdown",
      "metadata": {
        "id": "afIyKdLsmj6N"
      },
      "source": [
        "### 시각화"
      ]
    },
    {
      "cell_type": "code",
      "metadata": {
        "id": "sendhEujeu8S"
      },
      "source": [
        "import matplotlib.pyplot as plt\n",
        "plt.style.use('seaborn-white')"
      ],
      "execution_count": 15,
      "outputs": []
    },
    {
      "cell_type": "code",
      "metadata": {
        "id": "3rjMFpiBe4Fa",
        "colab": {
          "base_uri": "https://localhost:8080/",
          "height": 507
        },
        "outputId": "9741344e-66bc-4829-ae49-7e7149181da3"
      },
      "source": [
        "loss = history.history['loss']\n",
        "val_loss = history.history['val_loss']\n",
        "acc = history.history['acc']\n",
        "val_acc = history.history['val_acc']\n",
        "\n",
        "epochs = range(1, len(loss) + 1)\n",
        "\n",
        "plt.plot(epochs, loss, 'b--', label='training loss')\n",
        "plt.plot(epochs, val_loss, 'r:', label='validation loss')\n",
        "plt.grid()\n",
        "plt.legend()\n",
        "\n",
        "plt.figure()\n",
        "plt.plot(epochs, acc, 'b--', label='training accuracy')\n",
        "plt.plot(epochs, val_acc, 'r:', label='validation accuracy')\n",
        "plt.grid()\n",
        "plt.legend()\n",
        "\n",
        "plt.show()"
      ],
      "execution_count": 16,
      "outputs": [
        {
          "output_type": "display_data",
          "data": {
            "image/png": "[encoded data removed]",
            "text/plain": [
              "<Figure size 432x288 with 1 Axes>"
            ]
          },
          "metadata": {}
        },
        {
          "output_type": "display_data",
          "data": {
            "image/png": "[encoded data removed]",
            "text/plain": [
              "<Figure size 432x288 with 1 Axes>"
            ]
          },
          "metadata": {}
        }
      ]
    },
    {
      "cell_type": "code",
      "metadata": {
        "id": "YLO526Sgf-U_",
        "colab": {
          "base_uri": "https://localhost:8080/"
        },
        "outputId": "66a07ad2-1179-4384-e5c9-26074d9d9b1c"
      },
      "source": [
        "model.evaluate(input_test, y_test)"
      ],
      "execution_count": 17,
      "outputs": [
        {
          "output_type": "stream",
          "name": "stdout",
          "text": [
            "782/782 [==============================] - 39s 49ms/step - loss: 0.5991 - acc: 0.8267\n"
          ]
        },
        {
          "output_type": "execute_result",
          "data": {
            "text/plain": [
              "[0.5991187691688538, 0.8266800045967102]"
            ]
          },
          "metadata": {},
          "execution_count": 17
        }
      ]
    },
    {
      "cell_type": "markdown",
      "metadata": {
        "id": "VTmZ_XiZguM5"
      },
      "source": [
        "- 전체 시퀀스가 아니라 순서대로 500개의 단어만 입력했기 때문에 성능이 낮게 나옴\n",
        "\n",
        "- SimpleRNN은 긴 시퀀스를 처리하는데 적합하지 않음\n",
        "\n",
        "- SimpleRNN은 실전에 사용하기엔 너무 단순\n",
        "\n",
        "- SimpleRNN은 이론적으로 시간 $t$ 에서 이전의 모든 타임스텝의 정보를 유지할 수 있지만, 실제로는 긴 시간에 걸친 의존성은 학습할 수 없음\n",
        "\n",
        "- 그래디언트 소실 문제(vanishing gradient problem)\n",
        "  - 이를 방지하기 위해 LSTM, GRU 같은 레이어 등장\n",
        "\n"
      ]
    },
    {
      "cell_type": "markdown",
      "metadata": {
        "id": "oZXJIdDai7sV"
      },
      "source": [
        "# LSTM(Long Short-Term Memory)\n",
        "- 장단기 메모리 알고리즘\n",
        "\n",
        "- 나중을 위해 정보를 저장함으로써 오래된 시그널이 점차 소실되는 것을 막아줌\n",
        "\n",
        "  <img src=\"https://colah.github.io/posts/2015-08-Understanding-LSTMs/img/LSTM3-chain.png\">\n",
        "\n",
        "  <sub>출처: https://colah.github.io/posts/2015-08-Understanding-LSTMs/</sub>"
      ]
    },
    {
      "cell_type": "markdown",
      "metadata": {
        "id": "j3afhQOUlqG9"
      },
      "source": [
        "## IMDB 데이터"
      ]
    },
    {
      "cell_type": "markdown",
      "metadata": {
        "id": "tZOCK6EQl1QI"
      },
      "source": [
        "### 데이터 로드"
      ]
    },
    {
      "cell_type": "code",
      "metadata": {
        "id": "00ZS9v3YmT_H"
      },
      "source": [
        "from tensorflow.keras.datasets import imdb\n",
        "from tensorflow.keras.preprocessing.sequence import pad_sequences"
      ],
      "execution_count": 18,
      "outputs": []
    },
    {
      "cell_type": "code",
      "metadata": {
        "id": "UW-VG35_gwmt",
        "colab": {
          "base_uri": "https://localhost:8080/"
        },
        "outputId": "58ee6457-39ea-4c65-9b92-145e598ab0e8"
      },
      "source": [
        "num_words = 10000\n",
        "max_len = 500\n",
        "\n",
        "(x_train, y_train), (x_test, y_test) = imdb.load_data(num_words=num_words)\n",
        "print(len(x_train))\n",
        "print(len(x_test))\n",
        "\n",
        "pad_x_train = sequence.pad_sequences(x_train, maxlen=max_len)\n",
        "pad_x_test = sequence.pad_sequences(x_test, maxlen=max_len)\n",
        "print(pad_x_train.shape)\n",
        "print(pad_x_test.shape)\n"
      ],
      "execution_count": 20,
      "outputs": [
        {
          "output_type": "stream",
          "name": "stdout",
          "text": [
            "25000\n",
            "25000\n",
            "(25000, 500)\n",
            "(25000, 500)\n"
          ]
        }
      ]
    },
    {
      "cell_type": "markdown",
      "metadata": {
        "id": "uo8uhFyBl2k-"
      },
      "source": [
        "### 모델 구성"
      ]
    },
    {
      "cell_type": "code",
      "metadata": {
        "id": "tFkAN2Dzl3GC"
      },
      "source": [
        "from tensorflow.keras.models import Sequential\n",
        "from tensorflow.keras.layers import Dense, LSTM, GRU, Embedding"
      ],
      "execution_count": 22,
      "outputs": []
    },
    {
      "cell_type": "code",
      "metadata": {
        "id": "TPr9Ec-El50W",
        "colab": {
          "base_uri": "https://localhost:8080/"
        },
        "outputId": "71a044fd-7a30-48ae-918a-e14fdf88a595"
      },
      "source": [
        "model = Sequential()\n",
        "\n",
        "model.add(Embedding(num_words, 32))\n",
        "model.add(LSTM(32))\n",
        "model.add(Dense(1, activation='sigmoid'))\n",
        "\n",
        "model.compile(optimizer='rmsprop', \n",
        "              loss='binary_crossentropy', \n",
        "              metrics=['acc'])\n",
        "model.summary()"
      ],
      "execution_count": 23,
      "outputs": [
        {
          "output_type": "stream",
          "name": "stdout",
          "text": [
            "Model: \"sequential_4\"\n",
            "_________________________________________________________________\n",
            "Layer (type)                 Output Shape              Param #   \n",
            "=================================================================\n",
            "embedding_4 (Embedding)      (None, None, 32)          320000    \n",
            "_________________________________________________________________\n",
            "lstm (LSTM)                  (None, 32)                8320      \n",
            "_________________________________________________________________\n",
            "dense_1 (Dense)              (None, 1)                 33        \n",
            "=================================================================\n",
            "Total params: 328,353\n",
            "Trainable params: 328,353\n",
            "Non-trainable params: 0\n",
            "_________________________________________________________________\n"
          ]
        }
      ]
    },
    {
      "cell_type": "markdown",
      "metadata": {
        "id": "vAPnX6ACmenz"
      },
      "source": [
        "### 모델 학습"
      ]
    },
    {
      "cell_type": "code",
      "metadata": {
        "id": "FGWhqX5GmNeR",
        "colab": {
          "base_uri": "https://localhost:8080/"
        },
        "outputId": "a7e4d1d3-07ed-48f1-a9a2-4749d5ecde3b"
      },
      "source": [
        "history = model.fit(pad_x_train, y_train,\n",
        "                    epochs=10,\n",
        "                    batch_size=128,\n",
        "                    validation_split=0.2)"
      ],
      "execution_count": 24,
      "outputs": [
        {
          "output_type": "stream",
          "name": "stdout",
          "text": [
            "Epoch 1/10\n",
            "157/157 [==============================] - 17s 82ms/step - loss: 0.5305 - acc: 0.7591 - val_loss: 0.4257 - val_acc: 0.8034\n",
            "Epoch 2/10\n",
            "157/157 [==============================] - 12s 76ms/step - loss: 0.3104 - acc: 0.8787 - val_loss: 0.4506 - val_acc: 0.8218\n",
            "Epoch 3/10\n",
            "157/157 [==============================] - 12s 74ms/step - loss: 0.2386 - acc: 0.9101 - val_loss: 0.3761 - val_acc: 0.8312\n",
            "Epoch 4/10\n",
            "157/157 [==============================] - 12s 74ms/step - loss: 0.2034 - acc: 0.9241 - val_loss: 0.2794 - val_acc: 0.8848\n",
            "Epoch 5/10\n",
            "157/157 [==============================] - 11s 73ms/step - loss: 0.1779 - acc: 0.9344 - val_loss: 0.5003 - val_acc: 0.8360\n",
            "Epoch 6/10\n",
            "157/157 [==============================] - 11s 72ms/step - loss: 0.1608 - acc: 0.9447 - val_loss: 0.2916 - val_acc: 0.8854\n",
            "Epoch 7/10\n",
            "157/157 [==============================] - 11s 72ms/step - loss: 0.1406 - acc: 0.9496 - val_loss: 0.2994 - val_acc: 0.8778\n",
            "Epoch 8/10\n",
            "157/157 [==============================] - 11s 72ms/step - loss: 0.1341 - acc: 0.9521 - val_loss: 0.3264 - val_acc: 0.8862\n",
            "Epoch 9/10\n",
            "157/157 [==============================] - 11s 72ms/step - loss: 0.1163 - acc: 0.9595 - val_loss: 0.3716 - val_acc: 0.8632\n",
            "Epoch 10/10\n",
            "157/157 [==============================] - 11s 72ms/step - loss: 0.1062 - acc: 0.9635 - val_loss: 0.3863 - val_acc: 0.8830\n"
          ]
        }
      ]
    },
    {
      "cell_type": "code",
      "metadata": {
        "id": "KyIoaIQADumP"
      },
      "source": [
        ""
      ],
      "execution_count": null,
      "outputs": []
    },
    {
      "cell_type": "markdown",
      "metadata": {
        "id": "gFiE5SpPmh_x"
      },
      "source": [
        "### 시각화"
      ]
    },
    {
      "cell_type": "code",
      "metadata": {
        "id": "jwQ6ZYHTyXHS",
        "colab": {
          "base_uri": "https://localhost:8080/",
          "height": 507
        },
        "outputId": "82d9f844-0f48-4af5-83c1-c7d606f6752f"
      },
      "source": [
        "loss = history.history['loss']\n",
        "val_loss = history.history['val_loss']\n",
        "acc = history.history['acc']\n",
        "val_acc = history.history['val_acc']\n",
        "\n",
        "epochs = range(1, len(loss) + 1)\n",
        "\n",
        "plt.plot(epochs, loss, 'b--', label='training loss')\n",
        "plt.plot(epochs, val_loss, 'r:', label='validation loss')\n",
        "plt.grid()\n",
        "plt.legend()\n",
        "\n",
        "plt.figure()\n",
        "plt.plot(epochs, acc, 'b--', label='training accuracy')\n",
        "plt.plot(epochs, val_acc, 'r:', label='validation accuracy')\n",
        "plt.grid()\n",
        "plt.legend()\n",
        "\n",
        "plt.show()"
      ],
      "execution_count": 25,
      "outputs": [
        {
          "output_type": "display_data",
          "data": {
            "image/png": "[encoded data removed]",
            "text/plain": [
              "<Figure size 432x288 with 1 Axes>"
            ]
          },
          "metadata": {}
        },
        {
          "output_type": "display_data",
          "data": {
            "image/png": "[encoded data removed]",
            "text/plain": [
              "<Figure size 432x288 with 1 Axes>"
            ]
          },
          "metadata": {}
        }
      ]
    },
    {
      "cell_type": "markdown",
      "metadata": {
        "id": "NiZ6uiUPyXHN"
      },
      "source": [
        "### 모델 평가"
      ]
    },
    {
      "cell_type": "code",
      "metadata": {
        "id": "DZjW6iOV3k-J",
        "colab": {
          "base_uri": "https://localhost:8080/"
        },
        "outputId": "592999cb-3047-4ac0-dd11-0957b651c269"
      },
      "source": [
        "model.evaluate(pad_x_test, y_test)"
      ],
      "execution_count": 26,
      "outputs": [
        {
          "output_type": "stream",
          "name": "stdout",
          "text": [
            "782/782 [==============================] - 23s 29ms/step - loss: 0.4548 - acc: 0.8629\n"
          ]
        },
        {
          "output_type": "execute_result",
          "data": {
            "text/plain": [
              "[0.45484659075737, 0.8629199862480164]"
            ]
          },
          "metadata": {},
          "execution_count": 26
        }
      ]
    },
    {
      "cell_type": "markdown",
      "metadata": {
        "id": "Dc0wuvArGHgD"
      },
      "source": [
        "# GRU (Gated Recurrent Unit)\n",
        "- LSTM을 더 단순하게 만든 구조\n",
        "\n",
        "- 기억 셀은 없고, 시간방향으로 전파하는 것은 은닉 상태만 있음\n",
        "\n",
        "- reset gate\n",
        "  - 과거의 은닉 상태를 얼마나 무시할지 결정\n",
        "\n",
        "  - $r$ 값이 결정\n",
        "\n",
        "- update gate\n",
        "  -  은닉 상태를 갱신하는 게이트  \n",
        "\n",
        "  - LSTM의 forget, input gate 역할을 동시에 함\n",
        "  \n",
        "  <img src=\"https://miro.medium.com/max/1400/1*jhi5uOm9PvZfmxvfaCektw.png\" width=\"500\">\n",
        "\n",
        "<sub>출처: https://towardsdatascience.com/illustrated-guide-to-lstms-and-gru-s-a-step-by-step-explanation-44e9eb85bf21</sub>\n",
        "\n",
        "  ### $\\qquad z = \\sigma (x_t W^{(z)}_x + h_{t-1} W^{(z)}_h + b^{(z)} \\\\ \n",
        "  \\qquad r = \\sigma (x_t W^{(r)}_x + h_{t-1} W^{(r)}_h + b^{(r)}) \\\\\n",
        "  \\qquad \\tilde{i} = tanh (x_t W^{(i)}_x + (r \\odot h_{t-1}) W^{(i)}_h + b ) \\\\\n",
        "  \\qquad h_t = (1 - z) \\odot h_{t-1} + z \\odot \\tilde{h}$\n"
      ]
    },
    {
      "cell_type": "markdown",
      "metadata": {
        "id": "TvnFLeqSsOSh"
      },
      "source": [
        "## Reuters 데이터\n",
        "\n",
        "- IMDB와 유사한 데이터셋(텍스트 데이터)\n",
        "\n",
        "- 46개의 상호 배타적인 토픽으로 이루어진 데이터셋 \n",
        "  - 다중 분류 문제\n"
      ]
    },
    {
      "cell_type": "markdown",
      "metadata": {
        "id": "ONPaMDFEsftq"
      },
      "source": [
        "### 데이터셋 로드"
      ]
    },
    {
      "cell_type": "code",
      "metadata": {
        "id": "sFyvFVizsUVD"
      },
      "source": [
        "from tensorflow.keras.datasets import reuters"
      ],
      "execution_count": 28,
      "outputs": []
    },
    {
      "cell_type": "code",
      "metadata": {
        "id": "C234q3AVsUSp",
        "colab": {
          "base_uri": "https://localhost:8080/"
        },
        "outputId": "e2955688-411c-41de-99ed-a29c31c79a2e"
      },
      "source": [
        "num_words = 10000\n",
        "(x_train, y_train), (x_test, y_test) = reuters.load_data(num_words=num_words)\n",
        "\n",
        "print(x_train.shape)\n",
        "print(y_train.shape)\n",
        "\n",
        "print(x_test.shape)\n",
        "print(y_test.shape)"
      ],
      "execution_count": 29,
      "outputs": [
        {
          "output_type": "stream",
          "name": "stdout",
          "text": [
            "Downloading data from https://storage.googleapis.com/tensorflow/tf-keras-datasets/reuters.npz\n",
            "2113536/2110848 [==============================] - 0s 0us/step\n",
            "2121728/2110848 [==============================] - 0s 0us/step\n",
            "(8982,)\n",
            "(8982,)\n",
            "(2246,)\n",
            "(2246,)\n"
          ]
        }
      ]
    },
    {
      "cell_type": "markdown",
      "metadata": {
        "id": "VioYGD8Ms4zH"
      },
      "source": [
        "### 데이터 전처리 및 확인"
      ]
    },
    {
      "cell_type": "code",
      "metadata": {
        "id": "2Sb0OxNlsUQT"
      },
      "source": [
        "from tensorflow.keras.preprocessing.sequence import pad_sequences"
      ],
      "execution_count": 30,
      "outputs": []
    },
    {
      "cell_type": "code",
      "metadata": {
        "id": "rNUkve6-sUN6"
      },
      "source": [
        "max_len = 300"
      ],
      "execution_count": 31,
      "outputs": []
    },
    {
      "cell_type": "code",
      "metadata": {
        "id": "jBxQZtOJsULl",
        "colab": {
          "base_uri": "https://localhost:8080/"
        },
        "outputId": "22b9b832-b0af-4141-904b-e5c333cd97f8"
      },
      "source": [
        "pad_x_train = pad_sequences(x_train, maxlen=max_len)\n",
        "pad_x_test = pad_sequences(x_test, maxlen=max_len)\n",
        "\n",
        "print(len(pad_x_train[0]))"
      ],
      "execution_count": 32,
      "outputs": [
        {
          "output_type": "stream",
          "name": "stdout",
          "text": [
            "300\n"
          ]
        }
      ]
    },
    {
      "cell_type": "code",
      "metadata": {
        "id": "a6hwQtn_sUJN",
        "colab": {
          "base_uri": "https://localhost:8080/"
        },
        "outputId": "5738db90-8db5-4346-b73d-873b093aae2e"
      },
      "source": [
        "pad_x_train[5]"
      ],
      "execution_count": 33,
      "outputs": [
        {
          "output_type": "execute_result",
          "data": {
            "text/plain": [
              "array([   0,    0,    0,    0,    0,    0,    0,    0,    0,    0,    0,\n",
              "          0,    0,    0,    0,    0,    0,    0,    0,    0,    0,    0,\n",
              "          0,    0,    0,    0,    0,    0,    0,    0,    0,    0,    0,\n",
              "          0,    0,    0,    0,    0,    0,    0,    0,    0,    0,    0,\n",
              "          0,    0,    0,    0,    0,    0,    0,    0,    0,    0,    0,\n",
              "          0,    0,    0,    0,    0,    0,    0,    0,    0,    0,    0,\n",
              "          0,    0,    0,    0,    0,    0,    0,    0,    0,    0,    0,\n",
              "          0,    0,    0,    0,    0,    0,    0,    0,    0,    0,    0,\n",
              "          0,    0,    0,    0,    0,    0,    0,    0,    0,    0,    0,\n",
              "          0,    0,    0,    0,    0,    0,    0,    0,    0,    0,    0,\n",
              "          0,    0,    0,    0,    0,    0,    0,    0,    0,    0,    0,\n",
              "          0,    0,    0,    0,    0,    0,    0,    0,    0,    0,    0,\n",
              "          0,    0,    0,    0,    0,    0,    0,    0,    0,    0,    0,\n",
              "          0,    0,    0,    0,    0,    0,    0,    0,    0,    0,    0,\n",
              "          0,    0,    0,    0,    0,    0,    0,    0,    0,    0,    0,\n",
              "          0,    0,    0,    0,    0,    0,    0,    0,    0,    0,    0,\n",
              "          0,    0,    0,    0,    0,    0,    0,    0,    1,    4,   37,\n",
              "         38,  309,  213,  349, 1632,   48,  193,  229,  463,   28,  156,\n",
              "        635,   11,   82,   14,  156,  635,   11,   82,   54,  139,   16,\n",
              "        349,  105,  462,  311,   28,  296,  147,   11,   82,   14,  296,\n",
              "        147,   11,   54,  139,  342,   48,  193, 3234,  361,  122,   23,\n",
              "       1332,   28,  318,  942,   11,   82,   14,  318,  942,   11,   82,\n",
              "         54,  139,  122,    7,  105,  462,   23,  349,   28,  296,  767,\n",
              "         11,   82,   14,  296,  767,   11,   54,  139,  342,  229,  162,\n",
              "          7,   48,  193,   55,  408,   28,  258,  557,   11,   82,   14,\n",
              "        196,  557,   11,   82,   54,  139,  162,    7,  105,  462,   55,\n",
              "        349,   28,  191,  968,   11,   82,   14,  191,  785,   11,   54,\n",
              "        139,   17,   12], dtype=int32)"
            ]
          },
          "metadata": {},
          "execution_count": 33
        }
      ]
    },
    {
      "cell_type": "markdown",
      "metadata": {
        "id": "_P_JxBFntQOP"
      },
      "source": [
        "### 모델 구성\n",
        "- LSTM 레이어도 SimpleRNN과 같이 `return_sequences` 인자 사용가능"
      ]
    },
    {
      "cell_type": "code",
      "metadata": {
        "id": "1vG3ZGSksUG5"
      },
      "source": [
        "from tensorflow.keras.models import Sequential\n",
        "from tensorflow.keras.layers import GRU, Dense, Embedding"
      ],
      "execution_count": 35,
      "outputs": []
    },
    {
      "cell_type": "code",
      "metadata": {
        "id": "K_uMdxmysUEg",
        "colab": {
          "base_uri": "https://localhost:8080/"
        },
        "outputId": "ba169628-ba1c-4034-93a8-60f10158b08d"
      },
      "source": [
        "model = Sequential()\n",
        "model.add(Embedding(input_dim=num_words, output_dim=256))\n",
        "model.add(GRU(256, return_sequences=True))\n",
        "model.add(GRU(128))\n",
        "model.add(Dense(46, activation='softmax'))\n",
        "\n",
        "model.compile(optimizer='adam', loss='sparse_categorical_crossentropy', metrics=['acc'])\n",
        "model.summary()"
      ],
      "execution_count": 36,
      "outputs": [
        {
          "output_type": "stream",
          "name": "stdout",
          "text": [
            "Model: \"sequential_6\"\n",
            "_________________________________________________________________\n",
            "Layer (type)                 Output Shape              Param #   \n",
            "=================================================================\n",
            "embedding_6 (Embedding)      (None, None, 256)         2560000   \n",
            "_________________________________________________________________\n",
            "gru_2 (GRU)                  (None, None, 256)         394752    \n",
            "_________________________________________________________________\n",
            "gru_3 (GRU)                  (None, 128)               148224    \n",
            "_________________________________________________________________\n",
            "dense_3 (Dense)              (None, 46)                5934      \n",
            "=================================================================\n",
            "Total params: 3,108,910\n",
            "Trainable params: 3,108,910\n",
            "Non-trainable params: 0\n",
            "_________________________________________________________________\n"
          ]
        }
      ]
    },
    {
      "cell_type": "markdown",
      "metadata": {
        "id": "qjgupW2puHXA"
      },
      "source": [
        "### 모델 학습"
      ]
    },
    {
      "cell_type": "code",
      "metadata": {
        "id": "T22YsRQ8sUBg",
        "colab": {
          "base_uri": "https://localhost:8080/"
        },
        "outputId": "839cbc05-96de-4af9-ec82-7416bf63986b"
      },
      "source": [
        "history = model.fit(pad_x_train, y_train, batch_size=32, epochs=20, validation_split=0.2)"
      ],
      "execution_count": 37,
      "outputs": [
        {
          "output_type": "stream",
          "name": "stdout",
          "text": [
            "Epoch 1/20\n",
            "225/225 [==============================] - 34s 135ms/step - loss: 2.0322 - acc: 0.4612 - val_loss: 1.8248 - val_acc: 0.5231\n",
            "Epoch 2/20\n",
            "225/225 [==============================] - 30s 132ms/step - loss: 1.5738 - acc: 0.5904 - val_loss: 1.5061 - val_acc: 0.6244\n",
            "Epoch 3/20\n",
            "225/225 [==============================] - 30s 132ms/step - loss: 1.2700 - acc: 0.6738 - val_loss: 1.4459 - val_acc: 0.6327\n",
            "Epoch 4/20\n",
            "225/225 [==============================] - 30s 131ms/step - loss: 0.9597 - acc: 0.7491 - val_loss: 1.3551 - val_acc: 0.6605\n",
            "Epoch 5/20\n",
            "225/225 [==============================] - 30s 131ms/step - loss: 0.7367 - acc: 0.8054 - val_loss: 1.3520 - val_acc: 0.6784\n",
            "Epoch 6/20\n",
            "225/225 [==============================] - 30s 131ms/step - loss: 0.5529 - acc: 0.8568 - val_loss: 1.4045 - val_acc: 0.6784\n",
            "Epoch 7/20\n",
            "225/225 [==============================] - 29s 131ms/step - loss: 0.4298 - acc: 0.8902 - val_loss: 1.4323 - val_acc: 0.6795\n",
            "Epoch 8/20\n",
            "225/225 [==============================] - 29s 131ms/step - loss: 0.3307 - acc: 0.9198 - val_loss: 1.4745 - val_acc: 0.6956\n",
            "Epoch 9/20\n",
            "225/225 [==============================] - 30s 132ms/step - loss: 0.2656 - acc: 0.9322 - val_loss: 1.5489 - val_acc: 0.6856\n",
            "Epoch 10/20\n",
            "225/225 [==============================] - 30s 132ms/step - loss: 0.2266 - acc: 0.9439 - val_loss: 1.5722 - val_acc: 0.6923\n",
            "Epoch 11/20\n",
            "225/225 [==============================] - 30s 131ms/step - loss: 0.1874 - acc: 0.9507 - val_loss: 1.6184 - val_acc: 0.6850\n",
            "Epoch 12/20\n",
            "225/225 [==============================] - 30s 131ms/step - loss: 0.1591 - acc: 0.9542 - val_loss: 1.6487 - val_acc: 0.6806\n",
            "Epoch 13/20\n",
            "225/225 [==============================] - 30s 132ms/step - loss: 0.1435 - acc: 0.9582 - val_loss: 1.6388 - val_acc: 0.6956\n",
            "Epoch 14/20\n",
            "225/225 [==============================] - 30s 131ms/step - loss: 0.1273 - acc: 0.9602 - val_loss: 1.7067 - val_acc: 0.6923\n",
            "Epoch 15/20\n",
            "225/225 [==============================] - 30s 131ms/step - loss: 0.1150 - acc: 0.9603 - val_loss: 1.6917 - val_acc: 0.6939\n",
            "Epoch 16/20\n",
            "225/225 [==============================] - 30s 131ms/step - loss: 0.1061 - acc: 0.9610 - val_loss: 1.7589 - val_acc: 0.6939\n",
            "Epoch 17/20\n",
            "225/225 [==============================] - 30s 131ms/step - loss: 0.0991 - acc: 0.9609 - val_loss: 1.7591 - val_acc: 0.6889\n",
            "Epoch 18/20\n",
            "225/225 [==============================] - 30s 131ms/step - loss: 0.0966 - acc: 0.9606 - val_loss: 1.7682 - val_acc: 0.6878\n",
            "Epoch 19/20\n",
            "225/225 [==============================] - 30s 131ms/step - loss: 0.0889 - acc: 0.9634 - val_loss: 1.7590 - val_acc: 0.6962\n",
            "Epoch 20/20\n",
            "225/225 [==============================] - 30s 131ms/step - loss: 0.0882 - acc: 0.9606 - val_loss: 1.7762 - val_acc: 0.6945\n"
          ]
        }
      ]
    },
    {
      "cell_type": "markdown",
      "metadata": {
        "id": "JGZhIiYeuSCD"
      },
      "source": [
        "### 시각화"
      ]
    },
    {
      "cell_type": "code",
      "metadata": {
        "id": "INJu0-itsT_T",
        "colab": {
          "base_uri": "https://localhost:8080/",
          "height": 507
        },
        "outputId": "673223d0-d915-4694-9424-06cd99aa339a"
      },
      "source": [
        "loss = history.history['loss']\n",
        "val_loss = history.history['val_loss']\n",
        "acc = history.history['acc']\n",
        "val_acc = history.history['val_acc']\n",
        "\n",
        "epochs = range(1, len(loss) + 1)\n",
        "\n",
        "plt.plot(epochs, loss, 'b--', label='training loss')\n",
        "plt.plot(epochs, val_loss, 'r:', label='validation loss')\n",
        "plt.grid()\n",
        "plt.legend()\n",
        "\n",
        "plt.figure()\n",
        "plt.plot(epochs, acc, 'b--', label='training accuracy')\n",
        "plt.plot(epochs, val_acc, 'r:', label='validation accuracy')\n",
        "plt.grid()\n",
        "plt.legend()\n",
        "\n",
        "plt.show()"
      ],
      "execution_count": 40,
      "outputs": [
        {
          "output_type": "display_data",
          "data": {
            "image/png": "[encoded data removed]",
            "text/plain": [
              "<Figure size 432x288 with 1 Axes>"
            ]
          },
          "metadata": {}
        },
        {
          "output_type": "display_data",
          "data": {
            "image/png": "[encoded data removed]",
            "text/plain": [
              "<Figure size 432x288 with 1 Axes>"
            ]
          },
          "metadata": {}
        }
      ]
    },
    {
      "cell_type": "markdown",
      "metadata": {
        "id": "dLZLATDBuTtj"
      },
      "source": [
        "### 모델 평가\n"
      ]
    },
    {
      "cell_type": "code",
      "metadata": {
        "id": "SVxVV-kmsT6D",
        "colab": {
          "base_uri": "https://localhost:8080/"
        },
        "outputId": "2df7a405-5129-482c-ef36-57e6f3f7b25f"
      },
      "source": [
        "model.evaluate(pad_x_test, y_test)"
      ],
      "execution_count": 41,
      "outputs": [
        {
          "output_type": "stream",
          "name": "stdout",
          "text": [
            "71/71 [==============================] - 4s 54ms/step - loss: 2.0496 - acc: 0.6879\n"
          ]
        },
        {
          "output_type": "execute_result",
          "data": {
            "text/plain": [
              "[2.0496013164520264, 0.687889575958252]"
            ]
          },
          "metadata": {},
          "execution_count": 41
        }
      ]
    },
    {
      "cell_type": "code",
      "metadata": {
        "id": "s_knZhAOJBOR"
      },
      "source": [
        ""
      ],
      "execution_count": null,
      "outputs": []
    },
    {
      "cell_type": "code",
      "metadata": {
        "id": "ZByzEqrzJE7k"
      },
      "source": [
        ""
      ],
      "execution_count": null,
      "outputs": []
    }
  ]
}