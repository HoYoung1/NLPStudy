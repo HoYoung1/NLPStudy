{
  "nbformat": 4,
  "nbformat_minor": 0,
  "metadata": {
    "colab": {
      "name": "11 개체명 인식(Named Entity Recognition).ipynb",
      "provenance": [],
      "collapsed_sections": [],
      "include_colab_link": true
    },
    "kernelspec": {
      "name": "python3",
      "display_name": "Python 3"
    }
  },
  "cells": [
    {
      "cell_type": "markdown",
      "metadata": {
        "id": "view-in-github",
        "colab_type": "text"
      },
      "source": [
        "<a href=\"https://colab.research.google.com/github/HoYoung1/NLPStudy/blob/main/11_%EA%B0%9C%EC%B2%B4%EB%AA%85_%EC%9D%B8%EC%8B%9D(Named_Entity_Recognition).ipynb\" target=\"_parent\"><img src=\"https://colab.research.google.com/assets/colab-badge.svg\" alt=\"Open In Colab\"/></a>"
      ]
    },
    {
      "cell_type": "markdown",
      "metadata": {
        "id": "tV70fimDW_-G"
      },
      "source": [
        "# 개체명 인식(Named Entity Recognition)\n"
      ]
    },
    {
      "cell_type": "markdown",
      "metadata": {
        "id": "MWA304rM5v8A"
      },
      "source": [
        "* 개체명 인식은 텍스트에서 이름을 가진 개체를 인식하는 기술      \n",
        "* 가령, '철수와 영희는 밥을 먹었다'에서 이름과 사물을 추출하는 개체명 인식 모델 결과 \n",
        "\n",
        "  철수 - 이름    \n",
        "  영희 - 이름    \n",
        "  밥 - 사물"
      ]
    },
    {
      "cell_type": "markdown",
      "metadata": {
        "id": "9TwymWiS5fQs"
      },
      "source": [
        "## 개체명 인식 - NLTK\n",
        "\n",
        "* https://wikidocs.net/30682"
      ]
    },
    {
      "cell_type": "markdown",
      "metadata": {
        "id": "WClqugy-7LM4"
      },
      "source": [
        "* `nltk` 라이브러리에서는 미리 학습된 개체명 인식 모델을 제공"
      ]
    },
    {
      "cell_type": "markdown",
      "metadata": {
        "id": "5VP0CghXeLY-"
      },
      "source": [
        "### 라이브러리 준비"
      ]
    },
    {
      "cell_type": "code",
      "metadata": {
        "id": "ovXXNeMb7Xcw",
        "colab": {
          "base_uri": "https://localhost:8080/"
        },
        "outputId": "9cb71ab3-648a-4d89-b08b-a85d7a67fb5d"
      },
      "source": [
        "import nltk\n",
        "\n",
        "nltk.download('words')\n",
        "nltk.download('punkt')\n",
        "nltk.download('averaged_perceptron_tagger')\n",
        "nltk.download('maxent_ne_chunker')"
      ],
      "execution_count": 1,
      "outputs": [
        {
          "output_type": "stream",
          "name": "stdout",
          "text": [
            "[nltk_data] Downloading package words to /root/nltk_data...\n",
            "[nltk_data]   Package words is already up-to-date!\n",
            "[nltk_data] Downloading package punkt to /root/nltk_data...\n",
            "[nltk_data]   Package punkt is already up-to-date!\n",
            "[nltk_data] Downloading package averaged_perceptron_tagger to\n",
            "[nltk_data]     /root/nltk_data...\n",
            "[nltk_data]   Package averaged_perceptron_tagger is already up-to-\n",
            "[nltk_data]       date!\n",
            "[nltk_data] Downloading package maxent_ne_chunker to\n",
            "[nltk_data]     /root/nltk_data...\n",
            "[nltk_data]   Package maxent_ne_chunker is already up-to-date!\n"
          ]
        },
        {
          "output_type": "execute_result",
          "data": {
            "text/plain": [
              "True"
            ]
          },
          "metadata": {},
          "execution_count": 1
        }
      ]
    },
    {
      "cell_type": "markdown",
      "metadata": {
        "id": "O4lxskxmeQJU"
      },
      "source": [
        "### 토큰화 및 품사 태깅"
      ]
    },
    {
      "cell_type": "code",
      "metadata": {
        "id": "3mPuhBfs5qrQ",
        "colab": {
          "base_uri": "https://localhost:8080/"
        },
        "outputId": "2953a49f-b56b-4614-e1ce-5a88f756c158"
      },
      "source": [
        "from nltk import word_tokenize, pos_tag, ne_chunk\n",
        "\n",
        "sentence = \"James is working at Disney in London\"\n",
        "sentence = pos_tag(word_tokenize(sentence))\n",
        "print(sentence)"
      ],
      "execution_count": 2,
      "outputs": [
        {
          "output_type": "stream",
          "name": "stdout",
          "text": [
            "[('James', 'NNP'), ('is', 'VBZ'), ('working', 'VBG'), ('at', 'IN'), ('Disney', 'NNP'), ('in', 'IN'), ('London', 'NNP')]\n"
          ]
        }
      ]
    },
    {
      "cell_type": "markdown",
      "metadata": {
        "id": "9DZP3vVveYGs"
      },
      "source": [
        "### 개체명 인식"
      ]
    },
    {
      "cell_type": "code",
      "metadata": {
        "id": "KuDJ4Ur47Gzw",
        "colab": {
          "base_uri": "https://localhost:8080/"
        },
        "outputId": "2f099802-3b68-4051-a2bd-50b509990a49"
      },
      "source": [
        "sentence = ne_chunk(sentence)\n",
        "\n",
        "print(sentence)"
      ],
      "execution_count": 3,
      "outputs": [
        {
          "output_type": "stream",
          "name": "stdout",
          "text": [
            "(S\n",
            "  (PERSON James/NNP)\n",
            "  is/VBZ\n",
            "  working/VBG\n",
            "  at/IN\n",
            "  (ORGANIZATION Disney/NNP)\n",
            "  in/IN\n",
            "  (GPE London/NNP))\n"
          ]
        }
      ]
    },
    {
      "cell_type": "markdown",
      "metadata": {
        "id": "WvSriP226tSZ"
      },
      "source": [
        "## 개체명 인식 - LSTM\n",
        "\n",
        "* https://wikidocs.net/24682"
      ]
    },
    {
      "cell_type": "markdown",
      "metadata": {
        "id": "vOoJbTJC7xLC"
      },
      "source": [
        "* 사용자가 제공되고 있는 개체명 인식 모델과는 다른 개체명을 정의해 사용하는 것이 필요할 수 있음\n",
        "* 직접 개체명 인식 모델을 구성해 학습하고 사용할 수 있음"
      ]
    },
    {
      "cell_type": "markdown",
      "metadata": {
        "id": "7TZcsoHWee4F"
      },
      "source": [
        "### 라이브러리 준비"
      ]
    },
    {
      "cell_type": "code",
      "metadata": {
        "id": "Z3Pmu8QG64cK"
      },
      "source": [
        "from tensorflow.keras.preprocessing.text import Tokenizer\n",
        "from tensorflow.keras.preprocessing.sequence import pad_sequences\n",
        "from tensorflow.keras.utils import to_categorical\n",
        "from sklearn.model_selection import train_test_split\n",
        "import numpy as np\n",
        "import urllib.request\n"
      ],
      "execution_count": 4,
      "outputs": []
    },
    {
      "cell_type": "markdown",
      "metadata": {
        "id": "LDgF2DTOeih2"
      },
      "source": [
        "### 데이터 준비"
      ]
    },
    {
      "cell_type": "markdown",
      "metadata": {
        "id": "JZKtNz4OwI1C"
      },
      "source": [
        "* 공개된 개체명 인식 데이터셋을 이용\n",
        "  + https://raw.githubusercontent.com/Franck-Dernoncourt/NeuroNER/master/neuroner/data/conll2003/en/train.txt\n",
        "* 해당 데이터는 단어-개체명 형식으로 이루어져 있으므로 이를 가공해 데이터셋을 생성"
      ]
    },
    {
      "cell_type": "code",
      "metadata": {
        "id": "IXnAk3SFC87h",
        "colab": {
          "base_uri": "https://localhost:8080/"
        },
        "outputId": "f7bdcd61-3612-41aa-98c2-6f4f76e084a9"
      },
      "source": [
        "tagged_sentences = []\n",
        "sentence = []\n",
        "with urllib.request.urlopen('https://raw.githubusercontent.com/Franck-Dernoncourt/NeuroNER/master/neuroner/data/conll2003/en/train.txt') as f:\n",
        "  for line in f:\n",
        "    line = line.decode('utf-8')\n",
        "    if len(line) == 0 or line.startswith('-DOCSTART') or line[0] == \"\\n\":\n",
        "      if len(sentence) > 0:\n",
        "        tagged_sentences.append(sentence)\n",
        "        sentence = []\n",
        "      continue\n",
        "    splits = line.strip().split(' ')\n",
        "    word = splits[0].lower()\n",
        "    sentence.append([word, splits[-1]])\n",
        "\n",
        "print(len(tagged_sentences))\n",
        "print(tagged_sentences[0])\n",
        "\n",
        "\n"
      ],
      "execution_count": 6,
      "outputs": [
        {
          "output_type": "stream",
          "name": "stdout",
          "text": [
            "14041\n",
            "[['eu', 'B-ORG'], ['rejects', 'O'], ['german', 'B-MISC'], ['call', 'O'], ['to', 'O'], ['boycott', 'O'], ['british', 'B-MISC'], ['lamb', 'O'], ['.', 'O']]\n"
          ]
        }
      ]
    },
    {
      "cell_type": "markdown",
      "metadata": {
        "id": "iq3VOetBewLN"
      },
      "source": [
        "### 데이터 전처리"
      ]
    },
    {
      "cell_type": "markdown",
      "metadata": {
        "id": "5HTqk1LJwcFm"
      },
      "source": [
        "* 단어와 개체명 태그를 분리해서 데이터를 구성"
      ]
    },
    {
      "cell_type": "code",
      "metadata": {
        "id": "nvsvx1q8C9BP",
        "colab": {
          "base_uri": "https://localhost:8080/"
        },
        "outputId": "ca764fc2-f9b4-4756-8080-e92100911e58"
      },
      "source": [
        "sentences, ner_tags = [], []\n",
        "print(type(tagged_sentences))\n",
        "print(type(tagged_sentences[0]))\n",
        "for tagged_sentence in tagged_sentences:\n",
        "  sentence, tag_info = zip(*tagged_sentence)\n",
        "  sentences.append(list(sentence))\n",
        "  ner_tags.append(list(tag_info))"
      ],
      "execution_count": 7,
      "outputs": [
        {
          "output_type": "stream",
          "name": "stdout",
          "text": [
            "<class 'list'>\n",
            "<class 'list'>\n"
          ]
        }
      ]
    },
    {
      "cell_type": "markdown",
      "metadata": {
        "id": "flb_gBeGwqdA"
      },
      "source": [
        "* 정제 및 빈도 수가 높은 상위 단어들만 추출하기 위해 토큰화 작업"
      ]
    },
    {
      "cell_type": "code",
      "metadata": {
        "id": "WIFAktdLDJZj"
      },
      "source": [
        "max_words = 4000\n",
        "src_tokenizer = Tokenizer(num_words=max_words, oov_token='OOV')\n",
        "src_tokenizer.fit_on_texts(sentences)\n",
        "\n",
        "tar_tokenizer = Tokenizer()\n",
        "tar_tokenizer.fit_on_texts(ner_tags)"
      ],
      "execution_count": 8,
      "outputs": []
    },
    {
      "cell_type": "code",
      "metadata": {
        "id": "jsOP0gUdDL6g",
        "colab": {
          "base_uri": "https://localhost:8080/"
        },
        "outputId": "fd0ed162-69e8-42ba-9cc5-71a23df68053"
      },
      "source": [
        "vocab_size = max_words\n",
        "tag_size = len(tar_tokenizer.word_index) + 1\n",
        "\n",
        "print(vocab_size)\n",
        "print(tag_size)"
      ],
      "execution_count": 9,
      "outputs": [
        {
          "output_type": "stream",
          "name": "stdout",
          "text": [
            "4000\n",
            "10\n"
          ]
        }
      ]
    },
    {
      "cell_type": "markdown",
      "metadata": {
        "id": "q5dr-rJMxFV1"
      },
      "source": [
        "* 데이터를 학습에 활용하기 위해 데이터를 배열로 변환\n",
        "* 해당 작업은 토큰화 툴의 `texts_to_sequences()`를 통해 수행"
      ]
    },
    {
      "cell_type": "code",
      "metadata": {
        "id": "dTUzeqW-DNdv"
      },
      "source": [
        "X_train = src_tokenizer.texts_to_sequences(sentences)\n",
        "Y_train = tar_tokenizer.texts_to_sequences(ner_tags)"
      ],
      "execution_count": 11,
      "outputs": []
    },
    {
      "cell_type": "markdown",
      "metadata": {
        "id": "klstjOu4xQmL"
      },
      "source": [
        "* 학습에 투입할 때는 동일한 길이를 가져야 하므로, 지정해둔 최대 길이에 맞춰 모든 데이터를 동일한 길이로 맞춰줌\n",
        "* 일반적으로 길이를 맞출 때는 모자란 길이만큼 0을 추가\n"
      ]
    },
    {
      "cell_type": "code",
      "metadata": {
        "id": "jwvNulj2DO9Z"
      },
      "source": [
        "max_len = 70\n",
        "X_train = pad_sequences(X_train, padding='post', maxlen=max_len)"
      ],
      "execution_count": 12,
      "outputs": []
    },
    {
      "cell_type": "markdown",
      "metadata": {
        "id": "vYK8UDkxxefx"
      },
      "source": [
        "* 훈련, 실험 데이터 분리 및 원 핫 인코딩을 시행"
      ]
    },
    {
      "cell_type": "code",
      "metadata": {
        "id": "IVtO_DApDR64",
        "colab": {
          "base_uri": "https://localhost:8080/",
          "height": 419
        },
        "outputId": "06e22dfa-845e-45a0-c2f6-cda021a3c36b"
      },
      "source": [
        "X_train, X_test, Y_train, Y_test = train_test_split(X_train, Y_train, test_size=.2, random_state=111)\n",
        "\n",
        "Y_train = to_categorical(Y_train, num_classes=tag_size)\n",
        "Y_test = to_categorical(Y_test, num_classes=tag_size)\n"
      ],
      "execution_count": 15,
      "outputs": [
        {
          "output_type": "error",
          "ename": "ValueError",
          "evalue": "ignored",
          "traceback": [
            "\u001b[0;31m---------------------------------------------------------------------------\u001b[0m",
            "\u001b[0;31mTypeError\u001b[0m                                 Traceback (most recent call last)",
            "\u001b[0;31mTypeError\u001b[0m: int() argument must be a string, a bytes-like object or a number, not 'list'",
            "\nThe above exception was the direct cause of the following exception:\n",
            "\u001b[0;31mValueError\u001b[0m                                Traceback (most recent call last)",
            "\u001b[0;32m<ipython-input-15-fb13b2ead0b8>\u001b[0m in \u001b[0;36m<module>\u001b[0;34m()\u001b[0m\n\u001b[1;32m      1\u001b[0m \u001b[0mX_train\u001b[0m\u001b[0;34m,\u001b[0m \u001b[0mX_test\u001b[0m\u001b[0;34m,\u001b[0m \u001b[0mY_train\u001b[0m\u001b[0;34m,\u001b[0m \u001b[0mY_test\u001b[0m \u001b[0;34m=\u001b[0m \u001b[0mtrain_test_split\u001b[0m\u001b[0;34m(\u001b[0m\u001b[0mX_train\u001b[0m\u001b[0;34m,\u001b[0m \u001b[0mY_train\u001b[0m\u001b[0;34m,\u001b[0m \u001b[0mtest_size\u001b[0m\u001b[0;34m=\u001b[0m\u001b[0;36m.2\u001b[0m\u001b[0;34m,\u001b[0m \u001b[0mrandom_state\u001b[0m\u001b[0;34m=\u001b[0m\u001b[0;36m111\u001b[0m\u001b[0;34m)\u001b[0m\u001b[0;34m\u001b[0m\u001b[0;34m\u001b[0m\u001b[0m\n\u001b[1;32m      2\u001b[0m \u001b[0;34m\u001b[0m\u001b[0m\n\u001b[0;32m----> 3\u001b[0;31m \u001b[0mY_train\u001b[0m \u001b[0;34m=\u001b[0m \u001b[0mto_categorical\u001b[0m\u001b[0;34m(\u001b[0m\u001b[0mY_train\u001b[0m\u001b[0;34m,\u001b[0m \u001b[0mnum_classes\u001b[0m\u001b[0;34m=\u001b[0m\u001b[0mtag_size\u001b[0m\u001b[0;34m)\u001b[0m\u001b[0;34m\u001b[0m\u001b[0;34m\u001b[0m\u001b[0m\n\u001b[0m\u001b[1;32m      4\u001b[0m \u001b[0mY_test\u001b[0m \u001b[0;34m=\u001b[0m \u001b[0mto_categorical\u001b[0m\u001b[0;34m(\u001b[0m\u001b[0mY_test\u001b[0m\u001b[0;34m,\u001b[0m \u001b[0mnum_classes\u001b[0m\u001b[0;34m=\u001b[0m\u001b[0mtag_size\u001b[0m\u001b[0;34m)\u001b[0m\u001b[0;34m\u001b[0m\u001b[0;34m\u001b[0m\u001b[0m\n",
            "\u001b[0;32m/usr/local/lib/python3.7/dist-packages/keras/utils/np_utils.py\u001b[0m in \u001b[0;36mto_categorical\u001b[0;34m(y, num_classes, dtype)\u001b[0m\n\u001b[1;32m     60\u001b[0m   \u001b[0;34m[\u001b[0m\u001b[0;36m0.\u001b[0m \u001b[0;36m0.\u001b[0m \u001b[0;36m0.\u001b[0m \u001b[0;36m0.\u001b[0m\u001b[0;34m]\u001b[0m\u001b[0;34m\u001b[0m\u001b[0;34m\u001b[0m\u001b[0m\n\u001b[1;32m     61\u001b[0m   \"\"\"\n\u001b[0;32m---> 62\u001b[0;31m   \u001b[0my\u001b[0m \u001b[0;34m=\u001b[0m \u001b[0mnp\u001b[0m\u001b[0;34m.\u001b[0m\u001b[0marray\u001b[0m\u001b[0;34m(\u001b[0m\u001b[0my\u001b[0m\u001b[0;34m,\u001b[0m \u001b[0mdtype\u001b[0m\u001b[0;34m=\u001b[0m\u001b[0;34m'int'\u001b[0m\u001b[0;34m)\u001b[0m\u001b[0;34m\u001b[0m\u001b[0;34m\u001b[0m\u001b[0m\n\u001b[0m\u001b[1;32m     63\u001b[0m   \u001b[0minput_shape\u001b[0m \u001b[0;34m=\u001b[0m \u001b[0my\u001b[0m\u001b[0;34m.\u001b[0m\u001b[0mshape\u001b[0m\u001b[0;34m\u001b[0m\u001b[0;34m\u001b[0m\u001b[0m\n\u001b[1;32m     64\u001b[0m   \u001b[0;32mif\u001b[0m \u001b[0minput_shape\u001b[0m \u001b[0;32mand\u001b[0m \u001b[0minput_shape\u001b[0m\u001b[0;34m[\u001b[0m\u001b[0;34m-\u001b[0m\u001b[0;36m1\u001b[0m\u001b[0;34m]\u001b[0m \u001b[0;34m==\u001b[0m \u001b[0;36m1\u001b[0m \u001b[0;32mand\u001b[0m \u001b[0mlen\u001b[0m\u001b[0;34m(\u001b[0m\u001b[0minput_shape\u001b[0m\u001b[0;34m)\u001b[0m \u001b[0;34m>\u001b[0m \u001b[0;36m1\u001b[0m\u001b[0;34m:\u001b[0m\u001b[0;34m\u001b[0m\u001b[0;34m\u001b[0m\u001b[0m\n",
            "\u001b[0;31mValueError\u001b[0m: setting an array element with a sequence."
          ]
        }
      ]
    },
    {
      "cell_type": "markdown",
      "metadata": {
        "id": "CGqT1AGPxjKV"
      },
      "source": [
        "* 최종적으로 생성된 데이터셋의 크기는 다음과 같음"
      ]
    },
    {
      "cell_type": "code",
      "metadata": {
        "id": "cxrX6hkIDTU4"
      },
      "source": [
        ""
      ],
      "execution_count": null,
      "outputs": []
    },
    {
      "cell_type": "markdown",
      "metadata": {
        "id": "C8h9L6H-e0Vl"
      },
      "source": [
        "### 모델 구축 및 학습"
      ]
    },
    {
      "cell_type": "markdown",
      "metadata": {
        "id": "eMLRWTzOxzf5"
      },
      "source": [
        "* 모델 구축에는 `keras`를 이용\n",
        "* 해당 작업에 필요한 함수들을 추가로 import"
      ]
    },
    {
      "cell_type": "code",
      "metadata": {
        "id": "AQzpED-KDW3f"
      },
      "source": [
        ""
      ],
      "execution_count": null,
      "outputs": []
    },
    {
      "cell_type": "markdown",
      "metadata": {
        "id": "A0r8yR7nx84S"
      },
      "source": [
        "모델의 구성\n",
        "\n",
        "1. 입력을 실수 벡터로 임베딩\n",
        "2. 양방향 LSTM 구성\n",
        "3. Dense layer를 통한 각 태그에 속할 확률 예측\n",
        "\n",
        "`TimeDistributed`는 상위 layer의 출력이 step에 따라 여러 개로 출력되어 이를 적절하게 분배해주는 역할"
      ]
    },
    {
      "cell_type": "code",
      "metadata": {
        "id": "w0VhAso8DYc4"
      },
      "source": [
        ""
      ],
      "execution_count": null,
      "outputs": []
    },
    {
      "cell_type": "markdown",
      "metadata": {
        "id": "FrpUv_mxyqzR"
      },
      "source": [
        "* 모델 컴파일 및 학습 진행, 평가"
      ]
    },
    {
      "cell_type": "code",
      "metadata": {
        "id": "ARUqZJwHDZuT"
      },
      "source": [
        ""
      ],
      "execution_count": null,
      "outputs": []
    },
    {
      "cell_type": "code",
      "metadata": {
        "id": "iVQsKQwlDfag"
      },
      "source": [
        ""
      ],
      "execution_count": null,
      "outputs": []
    },
    {
      "cell_type": "markdown",
      "metadata": {
        "id": "OO13spS4fA27"
      },
      "source": [
        "### 학습한 모델을 통한 예측"
      ]
    },
    {
      "cell_type": "markdown",
      "metadata": {
        "id": "KeLrlYTOyy3P"
      },
      "source": [
        "* 예측을 확인하기 위해서 인덱스를 단어로 변환해줄 사전이 필요\n",
        "* 사전은 토큰화 툴의 사전을 이용"
      ]
    },
    {
      "cell_type": "code",
      "metadata": {
        "id": "fQx8MLCZvdI0"
      },
      "source": [
        ""
      ],
      "execution_count": null,
      "outputs": []
    },
    {
      "cell_type": "markdown",
      "metadata": {
        "id": "j4EQgmTIzBHp"
      },
      "source": [
        "* 예측 시각화"
      ]
    },
    {
      "cell_type": "code",
      "metadata": {
        "id": "BsHL9I4yDgpW"
      },
      "source": [
        ""
      ],
      "execution_count": null,
      "outputs": []
    }
  ]
}